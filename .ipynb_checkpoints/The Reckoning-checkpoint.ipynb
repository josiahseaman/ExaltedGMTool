{
 "metadata": {
  "name": ""
 },
 "nbformat": 3,
 "nbformat_minor": 0,
 "worksheets": [
  {
   "cells": [
    {
     "cell_type": "code",
     "collapsed": false,
     "input": [
      "from Glossary import *"
     ],
     "language": "python",
     "metadata": {},
     "outputs": [
      {
       "output_type": "stream",
       "stream": "stdout",
       "text": [
        "Alatu is missing Armor\n",
        "Alatu is missing Weapon\n",
        "Amod is missing Armor\n",
        "Blinding is missing Weapon\n",
        "\"Lord is missing Armor\n",
        "\"Lord is missing Weapon\n",
        "Help! File name does not exist. equipment/Abyssal_Fangs.item\n",
        "Help! File name does not exist. equipment/Abyssal_Fangs.item\n",
        "Jorah is missing Armor\n",
        "Jorah is missing Weapon\n"
       ]
      }
     ],
     "prompt_number": 1
    },
    {
     "cell_type": "code",
     "collapsed": false,
     "input": [
      "alatu.roll(dex, occult)"
     ],
     "language": "python",
     "metadata": {},
     "outputs": [
      {
       "output_type": "stream",
       "stream": "stdout",
       "text": [
        "Specialty: Necromancy Alatu: Dexterity Occult  [10, 10, 9, 7, 5, 4, 4, 4, 3, 3, 2, 1, 1]\n"
       ]
      },
      {
       "metadata": {},
       "output_type": "pyout",
       "prompt_number": 2,
       "text": [
        "9"
       ]
      }
     ],
     "prompt_number": 2
    },
    {
     "cell_type": "code",
     "collapsed": false,
     "input": [
      "sc.beginBattle()"
     ],
     "language": "python",
     "metadata": {},
     "outputs": [
      {
       "output_type": "stream",
       "stream": "stdout",
       "text": [
        "Evil Alatu: Wits Awareness  [10, 8, 5, 4, 3, 3, 3, 3, 2]\n",
        "Specialty: What Doesn't Belong Qismet: Wits Awareness  [10, 8, 7, 6, 6, 5, 5, 4, 3, 3, 1]\n",
        "\"Lord: Wits Awareness  [9, 8, 7, 6, 6, 5, 2, 2, 1]\n",
        "Specialty: When eye patch is resting above right eye Evil Amod: Wits Awareness  [10, 9, 8, 6, 6, 6, 5, 3, 3, 2, 1]\n",
        "Evil Quinn: Wits Awareness  [10, 9, 9, 9, 8, 4, 2, 1]\n",
        "Quinn: Wits Awareness  [10, 9, 9, 7, 5, 4, 4, 3]\n",
        "Evil Blinding: Wits Awareness  [10, 9, 8, 8, 6, 3, 1, 1, 1]\n",
        "Specialty: When eye patch is resting above right eye Amod: Wits Awareness  [8, 8, 7, 6, 6, 5, 4, 3, 2, 1, 1]\n",
        "Specialty: What Doesn't Belong Evil Qismet: Wits Awareness  [10, 9, 7, 7, 5, 5, 5, 4, 4, 4, 3]\n",
        "Blinding: Wits Awareness  [8, 7, 7, 7, 4, 3, 3, 2, 1]\n",
        "Alatu: Wits Awareness  [10, 10, 8, 8, 8, 7, 6, 4, 3]\n",
        "Evil \"Lord: Wits Awareness  [10, 8, 8, 7, 6, 4, 4, 4, 3]\n",
        "{0: [<Alatu>, <Evil Qismet>], 1: [<Qismet>, <Evil \"Lord>], 2: [<Evil Quinn>], 3: [<\"Lord>, <Quinn>, <Evil Blinding>], 4: [<Blinding>, <Evil Amod>], 5: [<Amod>, <Evil Alatu>]}\n"
       ]
      },
      {
       "metadata": {},
       "output_type": "pyout",
       "prompt_number": 3,
       "text": [
        "<Alatu>"
       ]
      }
     ],
     "prompt_number": 3
    },
    {
     "cell_type": "code",
     "collapsed": false,
     "input": [
      "alatu[willpower]"
     ],
     "language": "python",
     "metadata": {},
     "outputs": [
      {
       "metadata": {},
       "output_type": "pyout",
       "prompt_number": 5,
       "text": [
        "7"
       ]
      }
     ],
     "prompt_number": 5
    },
    {
     "cell_type": "heading",
     "level": 3,
     "metadata": {},
     "source": [
      "Quinn and Qismet"
     ]
    },
    {
     "cell_type": "markdown",
     "metadata": {},
     "source": [
      "Quinn makes a repair roll on the Warbird:"
     ]
    },
    {
     "cell_type": "code",
     "collapsed": false,
     "input": [
      "quinn.roll(intelligence, craft)"
     ],
     "language": "python",
     "metadata": {},
     "outputs": [
      {
       "output_type": "stream",
       "stream": "stdout",
       "text": [
        "Specialty: Anti-Magic Quinn: Intelligence Craft  [10, 10, 10, 10, 9, 6, 6, 6, 4, 3, 3, 2, 1]\n"
       ]
      },
      {
       "metadata": {},
       "output_type": "pyout",
       "prompt_number": 25,
       "text": [
        "12"
       ]
      }
     ],
     "prompt_number": 25
    },
    {
     "cell_type": "heading",
     "level": 1,
     "metadata": {},
     "source": [
      "Main Scenario"
     ]
    },
    {
     "cell_type": "markdown",
     "metadata": {},
     "source": [
      "This is a record of the events.\n",
      "\n",
      "Blinding Storm: Created 4 Glaciers (4wp) That will cause Piercing damage when hit with Torrential Cascade.\n",
      "\n",
      "Quinn: Heads down to the Manse.  Grey's ship docks and he deactivates \"Vile Anathema Shroud\".  \n",
      "<li>Desra is one of five gifted children who are in comas.  They're being conditioned by Necromancy.</li>\n",
      "<li>The Underworld ocean is brimming with dead.</li>\n",
      "\n",
      "There's a section of the Manse that has gone dark.  Grey uses Shroud again."
     ]
    },
    {
     "cell_type": "code",
     "collapsed": false,
     "input": [
      "gray.roll(manipulation, larceny, willpower)"
     ],
     "language": "python",
     "metadata": {},
     "outputs": [
      {
       "output_type": "stream",
       "stream": "stdout",
       "text": [
        "Willpower 6 remaining of 7\n",
        "\"Lord: Manipulation Larceny  [9, 8, 8, 6, 6, 6, 4, 4, 3, 1]\n"
       ]
      },
      {
       "metadata": {},
       "output_type": "pyout",
       "prompt_number": 3,
       "text": [
        "4"
       ]
      }
     ],
     "prompt_number": 3
    },
    {
     "cell_type": "markdown",
     "metadata": {},
     "source": [
      "The two Night Caste are sent in.  Eerie setting, "
     ]
    },
    {
     "cell_type": "code",
     "collapsed": false,
     "input": [
      "print(qismet.roll(wits, awareness))\n",
      "gray.roll(wits, awareness)"
     ],
     "language": "python",
     "metadata": {},
     "outputs": [
      {
       "output_type": "stream",
       "stream": "stdout",
       "text": [
        "Specialty: What Doesn't Belong Qismet: Wits Awareness  [10, 8, 7, 5, 4, 4, 4, 4, 2, 1, 1]\n",
        "7\n",
        "\"Lord: Wits Awareness  [10, 10, 8, 8, 7, 7, 7, 4, 1]\n"
       ]
      },
      {
       "metadata": {},
       "output_type": "pyout",
       "prompt_number": 14,
       "text": [
        "11"
       ]
      }
     ],
     "prompt_number": 14
    },
    {
     "cell_type": "code",
     "collapsed": false,
     "input": [
      "print(qismet.roll(dex, stealth, 2))\n",
      "print(qismet.accuracy(), qismet.damageCode())"
     ],
     "language": "python",
     "metadata": {},
     "outputs": [
      {
       "output_type": "stream",
       "stream": "stdout",
       "text": [
        "Specialty: Blend With Others Qismet: Dexterity Stealth  [10, 10, 9, 8, 7, 6, 6, 6, 5, 5, 4, 3, 1, 1]\n",
        "9\n",
        "Using Melee\n",
        "Specialty: Counterattack 12 3\n"
       ]
      }
     ],
     "prompt_number": 17
    },
    {
     "cell_type": "markdown",
     "metadata": {},
     "source": [
      "Damage: (7 + 3 + 3 + 2 - 12 / 2)\n",
      "\n",
      "9 * 3 = 12 damage done to a War Ghost who was sabotaging the manse"
     ]
    },
    {
     "cell_type": "code",
     "collapsed": false,
     "input": [
      "quinn.roll(intelligence, lore, willpower)"
     ],
     "language": "python",
     "metadata": {},
     "outputs": [
      {
       "output_type": "stream",
       "stream": "stdout",
       "text": [
        "Willpower 7 remaining of 8\n",
        "Specialty: Wyld Shaping Quinn: Intelligence Lore  [9, 9, 8, 7, 6, 5, 5, 5, 5, 4, 1, 1, 1]\n"
       ]
      },
      {
       "metadata": {},
       "output_type": "pyout",
       "prompt_number": 20,
       "text": [
        "8"
       ]
      }
     ],
     "prompt_number": 20
    },
    {
     "cell_type": "code",
     "collapsed": false,
     "input": [
      "quinn.roll(intelligence, craft, willpower)"
     ],
     "language": "python",
     "metadata": {},
     "outputs": [
      {
       "output_type": "stream",
       "stream": "stdout",
       "text": [
        "Willpower 6 remaining of 8\n",
        "Specialty: Anti-Magic Quinn: Intelligence Craft  [10, 10, 9, 6, 6, 6, 6, 3, 3, 2, 1, 1, 1]\n"
       ]
      },
      {
       "metadata": {},
       "output_type": "pyout",
       "prompt_number": 21,
       "text": [
        "9"
       ]
      }
     ],
     "prompt_number": 21
    },
    {
     "cell_type": "markdown",
     "metadata": {},
     "source": [
      "Quinn re-engineers the necro spiders to feed off of the crystals and grow and multiply."
     ]
    },
    {
     "cell_type": "heading",
     "level": 2,
     "metadata": {},
     "source": [
      "Spirit Courts"
     ]
    },
    {
     "cell_type": "markdown",
     "metadata": {},
     "source": [
      "Qismet and Quinn meet with Fahkaru and send out a call to arms through the elemental courts using Beauracracy."
     ]
    },
    {
     "cell_type": "code",
     "collapsed": false,
     "input": [
      "quinn.roll(manipulation, linguistics, conviction)"
     ],
     "language": "python",
     "metadata": {},
     "outputs": [
      {
       "output_type": "stream",
       "stream": "stdout",
       "text": [
        "Willpower 7 remaining of 8\n",
        "Conviction 4 remaining of 5\n",
        "Specialty: Writing Quinn: Manipulation Linguistics Conviction  [10, 8, 8, 8, 7, 7, 7, 6, 6, 5, 5, 4, 4, 4, 3, 3, 1, 1]\n"
       ]
      },
      {
       "metadata": {},
       "output_type": "pyout",
       "prompt_number": 31,
       "text": [
        "10"
       ]
      }
     ],
     "prompt_number": 31
    },
    {
     "cell_type": "code",
     "collapsed": false,
     "input": [
      "quinn.roll(willpower, dex)\n",
      "quinn.roll(willpower, dex)"
     ],
     "language": "python",
     "metadata": {},
     "outputs": [
      {
       "output_type": "stream",
       "stream": "stdout",
       "text": [
        "Willpower 5 remaining of 8\n",
        "Quinn: Dexterity  [10, 7, 6, 4, 4]\n",
        "Willpower 4 remaining of 8\n",
        "Quinn: Dexterity  [9, 8, 8, 2, 2]\n"
       ]
      },
      {
       "metadata": {},
       "output_type": "pyout",
       "prompt_number": 34,
       "text": [
        "4"
       ]
      }
     ],
     "prompt_number": 34
    },
    {
     "cell_type": "heading",
     "level": 2,
     "metadata": {},
     "source": [
      "Scenario Wrapup Situation"
     ]
    },
    {
     "cell_type": "markdown",
     "metadata": {},
     "source": [
      "<li>Storm made 4 Glaciers </li>\n",
      "<li>Quinn summoned a horde of water elementals</li>\n",
      "<li>Quinn made a lot of Necrotic spiders that have fed off of the Manse sabotage</li>\n",
      "<li>Grey can masquerade as an Abyssal</li>\n",
      "<li>Abyssals on Nishvathra</li>\n",
      "<li>Don't allow Nishvathra to contact Ikress</li>"
     ]
    },
    {
     "cell_type": "code",
     "collapsed": false,
     "input": [
      "qismet.temporaryWillpower -= 1"
     ],
     "language": "python",
     "metadata": {},
     "outputs": [
      {
       "output_type": "stream",
       "stream": "stdout",
       "text": [
        "Willpower 7 remaining of 8\n"
       ]
      }
     ],
     "prompt_number": 44
    },
    {
     "cell_type": "code",
     "collapsed": false,
     "input": [
      "qismet.roll(conviction, 0)"
     ],
     "language": "python",
     "metadata": {},
     "outputs": [
      {
       "output_type": "stream",
       "stream": "stdout",
       "text": [
        "Willpower 6 remaining of 8\n",
        "Conviction 4 remaining of 5\n",
        "Qismet: Conviction  [10, 8, 7, 7, 5]\n"
       ]
      },
      {
       "metadata": {},
       "output_type": "pyout",
       "prompt_number": 45,
       "text": [
        "5"
       ]
      }
     ],
     "prompt_number": 45
    },
    {
     "cell_type": "code",
     "collapsed": false,
     "input": [
      "qismet.ConvictionChannel += 1\n",
      "qismet.temporaryWillpower += 2"
     ],
     "language": "python",
     "metadata": {},
     "outputs": [],
     "prompt_number": 46
    },
    {
     "cell_type": "code",
     "collapsed": false,
     "input": [],
     "language": "python",
     "metadata": {},
     "outputs": []
    }
   ],
   "metadata": {}
  }
 ]
}