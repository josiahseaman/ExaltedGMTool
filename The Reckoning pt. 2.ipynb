{
 "metadata": {
  "name": ""
 },
 "nbformat": 3,
 "nbformat_minor": 0,
 "worksheets": [
  {
   "cells": [
    {
     "cell_type": "code",
     "collapsed": false,
     "input": [
      "from GmTool import *"
     ],
     "language": "python",
     "metadata": {},
     "outputs": [
      {
       "output_type": "stream",
       "stream": "stdout",
       "text": [
        "Alatu the Forsaken is missing Armor\n",
        "Alatu the Forsaken is missing Weapon\n",
        "Amod Satsugin-sha is missing Armor\n",
        "Blinding Storm is missing Weapon\n",
        "\"Lord Varys\" is missing Armor\n",
        "\"Lord Varys\" is missing Weapon\n",
        "KeyError(str( Limit ) + : No such stat\n",
        "Zombie is missing Armor\n",
        "Zombie is missing Weapon\n"
       ]
      }
     ],
     "prompt_number": 1
    },
    {
     "cell_type": "heading",
     "level": 1,
     "metadata": {},
     "source": [
      "Intro"
     ]
    },
    {
     "cell_type": "markdown",
     "metadata": {},
     "source": [
      "Silver Prince appears and casts a spell?  He says he will take away hope from the Solars.  He strikes the Sun and turns it a colr silver.  The temperature drops.  This makes all the Solars feel ill.  \n",
      "\n",
      "An Abyssal on Nishvathra suicides and raises up 6 ghosts.  Each of the six ghosts are a dark mirror of one of the Solars."
     ]
    },
    {
     "cell_type": "code",
     "collapsed": false,
     "input": [
      "sc.beginBattle()"
     ],
     "language": "python",
     "metadata": {},
     "outputs": [
      {
       "output_type": "stream",
       "stream": "stdout",
       "text": [
        "Specialty:  What Doesn't Belong      Qismet, the Veiled Eagle: Wits Awareness  [10, 8, 6, 5, 4, 3, 2, 2, 2, 1, 1]\n",
        "\"Lord Varys\": Wits Awareness  [10, 9, 9, 9, 7, 6, 6, 4, 2]\n",
        "Evil Blinding Storm: Wits Awareness  [10, 8, 7, 7, 6, 5, 3, 2, 1]\n",
        "Specialty:  When eye patch is resting above right eye      Amod Satsugin-sha: Wits Awareness  [9, 8, 7, 7, 5, 4, 4, 2, 2, 1, 1]\n",
        "Blinding Storm: Wits Awareness  [10, 9, 9, 8, 7, 7, 7, 6, 1]\n",
        "Specialty:  When eye patch is resting above right eye      Evil Amod Satsugin-sha: Wits Awareness  [10, 10, 8, 7, 6, 4, 3, 3, 3, 3, 2]\n",
        "Nishvathra: Wits Awareness  [9, 5, 5, 2]\n",
        "Evil Alatu the Forsaken: Wits Awareness  [9, 8, 7, 7, 6, 6, 4, 2, 1]\n",
        "Quinn Lanus: Wits Awareness  [10, 8, 7, 6, 5, 5, 4, 1]\n",
        "Alatu the Forsaken: Wits Awareness  [9, 7, 7, 6, 4, 3, 3, 1, 1]\n",
        "Evil Quinn Lanus: Wits Awareness  [10, 10, 9, 9, 8, 7, 6, 2]\n",
        "Specialty:  What Doesn't Belong      Evil Qismet, the Veiled Eagle: Wits Awareness  [8, 8, 7, 6, 5, 4, 3, 3, 2, 2, 2]\n",
        "Evil \"Lord Varys\": Wits Awareness  [10, 10, 9, 8, 8, 6, 5, 5, 3]\n",
        "{0: [<Evil \"Lord Varys\">], 1: [<Blinding Storm>, <\"Lord Varys\">, <Evil Quinn Lanus>], 3: [<Evil Qismet, the Veiled Eagle>, <Evil Amod Satsugin-sha>, <Qismet, the Veiled Eagle>], 4: [<Evil Blinding Storm>], 5: [<Amod Satsugin-sha>, <Quinn Lanus>, <Evil Alatu the Forsaken>], 6: [<Alatu the Forsaken>], 8: [<Nishvathra>]}\n"
       ]
      },
      {
       "metadata": {},
       "output_type": "pyout",
       "prompt_number": 6,
       "text": [
        "<Evil \"Lord Varys\">"
       ]
      }
     ],
     "prompt_number": 6
    },
    {
     "cell_type": "markdown",
     "metadata": {},
     "source": [
      "Ghost defies gravity and races off across the ocean towards Ikress."
     ]
    },
    {
     "cell_type": "code",
     "collapsed": false,
     "input": [
      "c = sc.resolveManual(6)"
     ],
     "language": "python",
     "metadata": {},
     "outputs": [
      {
       "output_type": "stream",
       "stream": "stdout",
       "text": [
        "Done with <Evil \"Lord Varys\">\n",
        "It is <Blinding Storm>'s turn to act.\n"
       ]
      }
     ],
     "prompt_number": 7
    },
    {
     "cell_type": "markdown",
     "metadata": {},
     "source": [
      "Mans a Very Large Concussion Cannon.  WotLA p. 162"
     ]
    },
    {
     "cell_type": "code",
     "collapsed": false,
     "input": [
      "storm.roll(dex, archery)"
     ],
     "language": "python",
     "metadata": {},
     "outputs": [
      {
       "output_type": "stream",
       "stream": "stdout",
       "text": [
        "Blinding Storm: Dexterity Archery  [9, 8, 3, 1, 1]\n"
       ]
      },
      {
       "metadata": {},
       "output_type": "pyout",
       "prompt_number": 8,
       "text": [
        "2"
       ]
      }
     ],
     "prompt_number": 8
    },
    {
     "cell_type": "code",
     "collapsed": false,
     "input": [
      "nishvathra_health = 566\n",
      "nishvathra_health -= 32 # Essence cannon"
     ],
     "language": "python",
     "metadata": {},
     "outputs": [],
     "prompt_number": 10
    },
    {
     "cell_type": "code",
     "collapsed": false,
     "input": [
      "c = sc.resolveManual(12)"
     ],
     "language": "python",
     "metadata": {},
     "outputs": [
      {
       "output_type": "stream",
       "stream": "stdout",
       "text": [
        "Done with <Blinding Storm>\n",
        "It is <\"Lord Varys\">'s turn to act.\n"
       ]
      }
     ],
     "prompt_number": 9
    },
    {
     "cell_type": "code",
     "collapsed": false,
     "input": [
      "from DiceRoller import *"
     ],
     "language": "python",
     "metadata": {},
     "outputs": [],
     "prompt_number": 11
    },
    {
     "cell_type": "code",
     "collapsed": false,
     "input": [
      "c = sc.resolveManual(3)"
     ],
     "language": "python",
     "metadata": {},
     "outputs": [
      {
       "output_type": "stream",
       "stream": "stdout",
       "text": [
        "Done with <\"Lord Varys\">\n",
        "It is <Evil Quinn Lanus>'s turn to act.\n"
       ]
      }
     ],
     "prompt_number": 12
    },
    {
     "cell_type": "markdown",
     "metadata": {},
     "source": [
      "Racing towards Quinn looking at Evil Quinn."
     ]
    },
    {
     "cell_type": "code",
     "collapsed": false,
     "input": [
      "c = sc.resolveManual(6)"
     ],
     "language": "python",
     "metadata": {},
     "outputs": [
      {
       "output_type": "stream",
       "stream": "stdout",
       "text": [
        "Done with <Evil Quinn Lanus>\n",
        "It is <Evil Qismet, the Veiled Eagle>'s turn to act.\n"
       ]
      }
     ],
     "prompt_number": 13
    },
    {
     "cell_type": "markdown",
     "metadata": {},
     "source": [
      "Closing on Qismet"
     ]
    },
    {
     "cell_type": "code",
     "collapsed": false,
     "input": [
      "c"
     ],
     "language": "python",
     "metadata": {},
     "outputs": [
      {
       "metadata": {},
       "output_type": "pyout",
       "prompt_number": 15,
       "text": [
        "<Evil Amod Satsugin-sha>"
       ]
      }
     ],
     "prompt_number": 15
    },
    {
     "cell_type": "code",
     "collapsed": false,
     "input": [],
     "language": "python",
     "metadata": {},
     "outputs": []
    },
    {
     "cell_type": "code",
     "collapsed": false,
     "input": [
      "c = sc.resolveManual(6)"
     ],
     "language": "python",
     "metadata": {},
     "outputs": [
      {
       "output_type": "stream",
       "stream": "stdout",
       "text": [
        "Done with <Evil Amod Satsugin-sha>\n",
        "It is <Qismet, the Veiled Eagle>'s turn to act.\n"
       ]
      }
     ],
     "prompt_number": 16
    },
    {
     "cell_type": "code",
     "collapsed": false,
     "input": [
      "sc.battleWheel"
     ],
     "language": "python",
     "metadata": {},
     "outputs": [
      {
       "metadata": {},
       "output_type": "pyout",
       "prompt_number": 17,
       "text": [
        "BattleWheel:{0: [], 1: [], 3: [<Qismet, the Veiled Eagle>], 4: [<Evil Blinding Storm>, <\"Lord Varys\">], 5: [<Amod Satsugin-sha>, <Quinn Lanus>, <Evil Alatu the Forsaken>], 6: [<Alatu the Forsaken>, <Evil \"Lord Varys\">], 7: [<Evil Quinn Lanus>], 8: [<Nishvathra>], 9: [<Evil Qismet, the Veiled Eagle>, <Evil Amod Satsugin-sha>], 13: [<Blinding Storm>]}"
       ]
      }
     ],
     "prompt_number": 17
    },
    {
     "cell_type": "code",
     "collapsed": false,
     "input": [
      "qismet.roll(dex, thrown)"
     ],
     "language": "python",
     "metadata": {},
     "outputs": [
      {
       "output_type": "stream",
       "stream": "stdout",
       "text": [
        "Qismet, the Veiled Eagle: Dexterity Thrown  [10, 10, 6, 5, 4, 4]\n"
       ]
      },
      {
       "metadata": {},
       "output_type": "pyout",
       "prompt_number": 18,
       "text": [
        "4"
       ]
      }
     ],
     "prompt_number": 18
    },
    {
     "cell_type": "code",
     "collapsed": false,
     "input": [
      "qismet['Thrown']"
     ],
     "language": "python",
     "metadata": {},
     "outputs": [
      {
       "metadata": {},
       "output_type": "pyout",
       "prompt_number": 21,
       "text": [
        "1"
       ]
      }
     ],
     "prompt_number": 21
    },
    {
     "cell_type": "code",
     "collapsed": false,
     "input": [
      "c = sc.resolveManual(5)"
     ],
     "language": "python",
     "metadata": {},
     "outputs": [
      {
       "output_type": "stream",
       "stream": "stdout",
       "text": [
        "Done with <Qismet, the Veiled Eagle>\n",
        "It is <Evil Blinding Storm>'s turn to act.\n"
       ]
      }
     ],
     "prompt_number": 22
    },
    {
     "cell_type": "markdown",
     "metadata": {},
     "source": [
      "Evil Storm take Labyrinth Circle sorcery."
     ]
    },
    {
     "cell_type": "code",
     "collapsed": false,
     "input": [
      "c = sc.resolveManual(12)"
     ],
     "language": "python",
     "metadata": {},
     "outputs": [
      {
       "output_type": "stream",
       "stream": "stdout",
       "text": [
        "Done with <Evil Blinding Storm>\n",
        "It is <\"Lord Varys\">'s turn to act.\n"
       ]
      }
     ],
     "prompt_number": 23
    },
    {
     "cell_type": "code",
     "collapsed": false,
     "input": [
      "sc.battleWheel"
     ],
     "language": "python",
     "metadata": {},
     "outputs": [
      {
       "metadata": {},
       "output_type": "pyout",
       "prompt_number": 24,
       "text": [
        "BattleWheel:{0: [], 1: [], 3: [], 4: [<\"Lord Varys\">], 5: [<Amod Satsugin-sha>, <Quinn Lanus>, <Evil Alatu the Forsaken>], 6: [<Alatu the Forsaken>, <Evil \"Lord Varys\">], 7: [<Evil Quinn Lanus>], 8: [<Nishvathra>, <Qismet, the Veiled Eagle>], 9: [<Evil Qismet, the Veiled Eagle>, <Evil Amod Satsugin-sha>], 13: [<Blinding Storm>], 16: [<Evil Blinding Storm>]}"
       ]
      }
     ],
     "prompt_number": 24
    },
    {
     "cell_type": "code",
     "collapsed": false,
     "input": [
      "c = sc.resolveManual(1)"
     ],
     "language": "python",
     "metadata": {},
     "outputs": [
      {
       "output_type": "stream",
       "stream": "stdout",
       "text": [
        "Done with <\"Lord Varys\">\n",
        "It is <Amod Satsugin-sha>'s turn to act.\n"
       ]
      }
     ],
     "prompt_number": 25
    },
    {
     "cell_type": "markdown",
     "metadata": {},
     "source": [
      "Amod begins casting Internal Flame to melt the bones of the Bonestrider into slag.  Qismet lands on Amod's warstrider and perches."
     ]
    },
    {
     "cell_type": "code",
     "collapsed": false,
     "input": [
      "c = sc.resolveManual(5)"
     ],
     "language": "python",
     "metadata": {},
     "outputs": [
      {
       "output_type": "stream",
       "stream": "stdout",
       "text": [
        "Done with <Amod Satsugin-sha>\n",
        "It is <Quinn Lanus>'s turn to act.\n"
       ]
      }
     ],
     "prompt_number": 26
    },
    {
     "cell_type": "markdown",
     "metadata": {},
     "source": [
      "Quinn lines up a barrel on Evil Storm.  \"The sun's not gone yet.  We're still here.\""
     ]
    },
    {
     "cell_type": "code",
     "collapsed": false,
     "input": [
      "print(quinn.roll(dex, martialarts, 1))\n",
      "print(storm.dodgeDV()-3)"
     ],
     "language": "python",
     "metadata": {},
     "outputs": [
      {
       "output_type": "stream",
       "stream": "stdout",
       "text": [
        "Specialty:  One on One      Quinn Lanus: Dexterity MartialArts  [9, 8, 6, 6, 6, 5, 4, 4, 3, 2, 2, 2, 1, 1]\n",
        "2\n",
        "1\n"
       ]
      }
     ],
     "prompt_number": 27
    },
    {
     "cell_type": "code",
     "collapsed": false,
     "input": [
      "c = sc.resolveManual(1)"
     ],
     "language": "python",
     "metadata": {},
     "outputs": [
      {
       "output_type": "stream",
       "stream": "stdout",
       "text": [
        "Done with <Quinn Lanus>\n",
        "It is <Evil Alatu the Forsaken>'s turn to act.\n"
       ]
      }
     ],
     "prompt_number": 28
    },
    {
     "cell_type": "markdown",
     "metadata": {},
     "source": [
      "Evil Alatu starts Labyrinth Circle Necro..."
     ]
    },
    {
     "cell_type": "code",
     "collapsed": false,
     "input": [
      "c = sc.resolveManual(12)"
     ],
     "language": "python",
     "metadata": {},
     "outputs": [
      {
       "output_type": "stream",
       "stream": "stdout",
       "text": [
        "Done with <Evil Alatu the Forsaken>\n",
        "It is <\"Lord Varys\">'s turn to act.\n"
       ]
      }
     ],
     "prompt_number": 29
    },
    {
     "cell_type": "code",
     "collapsed": false,
     "input": [
      "c.roll(dex, martialarts, 4) #Dagger roll"
     ],
     "language": "python",
     "metadata": {},
     "outputs": [
      {
       "output_type": "stream",
       "stream": "stdout",
       "text": [
        "\"Lord Varys\": Dexterity MartialArts  [10, 10, 9, 7, 7, 7, 7, 6, 4, 3, 3, 3, 3, 1]\n"
       ]
      },
      {
       "metadata": {},
       "output_type": "pyout",
       "prompt_number": 31,
       "text": [
        "9"
       ]
      }
     ],
     "prompt_number": 31
    },
    {
     "cell_type": "code",
     "collapsed": false,
     "input": [
      "c.DV()"
     ],
     "language": "python",
     "metadata": {},
     "outputs": [
      {
       "metadata": {},
       "output_type": "pyout",
       "prompt_number": 32,
       "text": [
        "6"
       ]
      }
     ],
     "prompt_number": 32
    },
    {
     "cell_type": "code",
     "collapsed": false,
     "input": [
      "rollDamage(8 - 3 + 4)"
     ],
     "language": "python",
     "metadata": {},
     "outputs": [
      {
       "output_type": "stream",
       "stream": "stdout",
       "text": [
        "Damage: [10, 9, 8, 7, 6, 6, 4, 4, 2]\n"
       ]
      },
      {
       "metadata": {},
       "output_type": "pyout",
       "prompt_number": 33,
       "text": [
        "4"
       ]
      }
     ],
     "prompt_number": 33
    },
    {
     "cell_type": "markdown",
     "metadata": {},
     "source": [
      "Lord Varys stabs his double and he dissolves under a wave of Yozi Venom (dead dead)."
     ]
    },
    {
     "cell_type": "code",
     "collapsed": false,
     "input": [
      "c = sc.resolveManual(4)"
     ],
     "language": "python",
     "metadata": {},
     "outputs": [
      {
       "output_type": "stream",
       "stream": "stdout",
       "text": [
        "Done with <\"Lord Varys\">\n",
        "It is <Alatu the Forsaken>'s turn to act.\n"
       ]
      }
     ],
     "prompt_number": 34
    },
    {
     "cell_type": "markdown",
     "metadata": {},
     "source": [
      "Alatu prays to the Unconquered Sun in a very dramatic ritual.  Fires running through her core ... I recorded it. \n",
      "\n",
      "3 dice stunt.  David says F- the roll.\n",
      "\n",
      "Evil Alatu is knocked back (5 bashing) shattering her ghost armor."
     ]
    },
    {
     "cell_type": "code",
     "collapsed": false,
     "input": [
      "storm.roll(intelligence, occult)"
     ],
     "language": "python",
     "metadata": {},
     "outputs": [
      {
       "output_type": "stream",
       "stream": "stdout",
       "text": [
        "Blinding Storm: Intelligence Occult  [8, 8, 7, 7, 7, 5, 5, 3, 3, 2]\n"
       ]
      },
      {
       "metadata": {},
       "output_type": "pyout",
       "prompt_number": 35,
       "text": [
        "8"
       ]
      }
     ],
     "prompt_number": 35
    },
    {
     "cell_type": "code",
     "collapsed": false,
     "input": [
      "c = sc.resolveManual(5)"
     ],
     "language": "python",
     "metadata": {},
     "outputs": [
      {
       "output_type": "stream",
       "stream": "stdout",
       "text": [
        "Done with <Alatu the Forsaken>\n",
        "It is <Evil \"Lord Varys\">'s turn to act.\n"
       ]
      }
     ],
     "prompt_number": 36
    },
    {
     "cell_type": "code",
     "collapsed": false,
     "input": [
      "sc.battleWheel.removeCharacter(c)"
     ],
     "language": "python",
     "metadata": {},
     "outputs": [
      {
       "metadata": {},
       "output_type": "pyout",
       "prompt_number": 37,
       "text": [
        "True"
       ]
      }
     ],
     "prompt_number": 37
    },
    {
     "cell_type": "code",
     "collapsed": false,
     "input": [
      "sc.battleWheel.tickLayout"
     ],
     "language": "python",
     "metadata": {},
     "outputs": [
      {
       "metadata": {},
       "output_type": "pyout",
       "prompt_number": 38,
       "text": [
        "{0: [],\n",
        " 1: [],\n",
        " 3: [],\n",
        " 4: [],\n",
        " 5: [],\n",
        " 6: [<Quinn Lanus>],\n",
        " 7: [<Evil Quinn Lanus>],\n",
        " 8: [<Nishvathra>, <Qismet, the Veiled Eagle>],\n",
        " 9: [<Evil Qismet, the Veiled Eagle>,\n",
        "  <Evil Amod Satsugin-sha>,\n",
        "  <\"Lord Varys\">],\n",
        " 10: [<Amod Satsugin-sha>],\n",
        " 11: [<Alatu the Forsaken>],\n",
        " 13: [<Blinding Storm>],\n",
        " 16: [<Evil Blinding Storm>],\n",
        " 17: [<Evil Alatu the Forsaken>]}"
       ]
      }
     ],
     "prompt_number": 38
    },
    {
     "cell_type": "code",
     "collapsed": false,
     "input": [
      "nishvathra_health -= 82"
     ],
     "language": "python",
     "metadata": {},
     "outputs": [],
     "prompt_number": 39
    },
    {
     "cell_type": "code",
     "collapsed": false,
     "input": [
      "nishvathra_health += 32"
     ],
     "language": "python",
     "metadata": {},
     "outputs": [],
     "prompt_number": 41
    },
    {
     "cell_type": "code",
     "collapsed": false,
     "input": [
      "nishvathra_health"
     ],
     "language": "python",
     "metadata": {},
     "outputs": [
      {
       "metadata": {},
       "output_type": "pyout",
       "prompt_number": 42,
       "text": [
        "484"
       ]
      }
     ],
     "prompt_number": 42
    },
    {
     "cell_type": "code",
     "collapsed": false,
     "input": [
      "sc.current"
     ],
     "language": "python",
     "metadata": {},
     "outputs": [
      {
       "metadata": {},
       "output_type": "pyout",
       "prompt_number": 43,
       "text": [
        "<Evil \"Lord Varys\">"
       ]
      }
     ],
     "prompt_number": 43
    },
    {
     "cell_type": "code",
     "collapsed": false,
     "input": [
      "c = sc.resolveManual(6)"
     ],
     "language": "python",
     "metadata": {},
     "outputs": [
      {
       "output_type": "stream",
       "stream": "stdout",
       "text": [
        "Done with <Quinn Lanus>\n",
        "It is <Evil Quinn Lanus>'s turn to act.\n"
       ]
      }
     ],
     "prompt_number": 44
    },
    {
     "cell_type": "code",
     "collapsed": false,
     "input": [
      "quinn.roll(dex, martialarts, -4)"
     ],
     "language": "python",
     "metadata": {},
     "outputs": [
      {
       "output_type": "stream",
       "stream": "stdout",
       "text": [
        "Specialty:  One on One      Quinn Lanus: Dexterity MartialArts  [10, 8, 8, 6, 4, 3, 3, 1, 1]\n"
       ]
      },
      {
       "metadata": {},
       "output_type": "pyout",
       "prompt_number": 45,
       "text": [
        "4"
       ]
      }
     ],
     "prompt_number": 45
    },
    {
     "cell_type": "code",
     "collapsed": false,
     "input": [
      "30/2 - 45- 4"
     ],
     "language": "python",
     "metadata": {},
     "outputs": [
      {
       "metadata": {},
       "output_type": "pyout",
       "prompt_number": 46,
       "text": [
        "-34.0"
       ]
      }
     ],
     "prompt_number": 46
    },
    {
     "cell_type": "code",
     "collapsed": false,
     "input": [
      "nishvathra_health -= 34"
     ],
     "language": "python",
     "metadata": {},
     "outputs": [],
     "prompt_number": 47
    },
    {
     "cell_type": "code",
     "collapsed": false,
     "input": [
      "quinn.roll(dex, martialarts)"
     ],
     "language": "python",
     "metadata": {},
     "outputs": [
      {
       "output_type": "stream",
       "stream": "stdout",
       "text": [
        "Specialty:  One on One      Quinn Lanus: Dexterity MartialArts  [9, 7, 6, 5, 5, 4, 4, 4, 3, 2, 2, 1, 1]\n"
       ]
      },
      {
       "metadata": {},
       "output_type": "pyout",
       "prompt_number": 48,
       "text": [
        "2"
       ]
      }
     ],
     "prompt_number": 48
    },
    {
     "cell_type": "code",
     "collapsed": false,
     "input": [
      "quinn.DV()"
     ],
     "language": "python",
     "metadata": {},
     "outputs": [
      {
       "metadata": {},
       "output_type": "pyout",
       "prompt_number": 49,
       "text": [
        "4"
       ]
      }
     ],
     "prompt_number": 49
    },
    {
     "cell_type": "markdown",
     "metadata": {},
     "source": [
      "Quinn dodges his mirror's attack."
     ]
    },
    {
     "cell_type": "code",
     "collapsed": false,
     "input": [
      "c = sc.resolveManual(6)"
     ],
     "language": "python",
     "metadata": {},
     "outputs": [
      {
       "output_type": "stream",
       "stream": "stdout",
       "text": [
        "Done with <Evil Quinn Lanus>\n",
        "It is <Nishvathra>'s turn to act.\n"
       ]
      }
     ],
     "prompt_number": 50
    },
    {
     "cell_type": "code",
     "collapsed": false,
     "input": [
      "c = sc.resolveManual(4)"
     ],
     "language": "python",
     "metadata": {},
     "outputs": [
      {
       "output_type": "stream",
       "stream": "stdout",
       "text": [
        "Done with <Nishvathra>\n",
        "It is <Qismet, the Veiled Eagle>'s turn to act.\n"
       ]
      }
     ],
     "prompt_number": 51
    },
    {
     "cell_type": "code",
     "collapsed": false,
     "input": [
      "print(sc.battleWheel.tickLayout)"
     ],
     "language": "python",
     "metadata": {},
     "outputs": [
      {
       "output_type": "stream",
       "stream": "stdout",
       "text": [
        "{0: [], 1: [], 3: [], 4: [], 5: [], 6: [], 7: [], 8: [<Qismet, the Veiled Eagle>], 9: [<Evil Qismet, the Veiled Eagle>, <Evil Amod Satsugin-sha>, <\"Lord Varys\">], 10: [<Amod Satsugin-sha>], 11: [<Alatu the Forsaken>], 12: [<Quinn Lanus>, <Nishvathra>], 13: [<Blinding Storm>, <Evil Quinn Lanus>], 16: [<Evil Blinding Storm>], 17: [<Evil Alatu the Forsaken>]}\n"
       ]
      }
     ],
     "prompt_number": 52
    },
    {
     "cell_type": "markdown",
     "metadata": {},
     "source": [
      "Qismet uses rope to try and entangle (whip) the bonestriders legs."
     ]
    },
    {
     "cell_type": "code",
     "collapsed": false,
     "input": [
      "qismet.roll(dex, melee, 4)"
     ],
     "language": "python",
     "metadata": {},
     "outputs": [
      {
       "output_type": "stream",
       "stream": "stdout",
       "text": [
        "Specialty:  Counterattack      Qismet, the Veiled Eagle: Dexterity Melee  [10, 10, 9, 9, 8, 8, 8, 8, 7, 7, 7, 6, 5, 5, 4, 2]\n"
       ]
      },
      {
       "metadata": {},
       "output_type": "pyout",
       "prompt_number": 54,
       "text": [
        "15"
       ]
      }
     ],
     "prompt_number": 54
    },
    {
     "cell_type": "code",
     "collapsed": false,
     "input": [
      "c = sc.resolveManual(7)"
     ],
     "language": "python",
     "metadata": {},
     "outputs": [
      {
       "output_type": "stream",
       "stream": "stdout",
       "text": [
        "Done with <Qismet, the Veiled Eagle>\n",
        "It is <Evil Qismet, the Veiled Eagle>'s turn to act.\n"
       ]
      }
     ],
     "prompt_number": 55
    },
    {
     "cell_type": "code",
     "collapsed": false,
     "input": [
      "c.roll(dex, melee)"
     ],
     "language": "python",
     "metadata": {},
     "outputs": [
      {
       "output_type": "stream",
       "stream": "stdout",
       "text": [
        "Specialty:  Counterattack      Evil Qismet, the Veiled Eagle: Dexterity Melee  [10, 10, 9, 9, 8, 7, 6, 6, 5, 3, 3, 2]\n"
       ]
      },
      {
       "metadata": {},
       "output_type": "pyout",
       "prompt_number": 56,
       "text": [
        "10"
       ]
      }
     ],
     "prompt_number": 56
    },
    {
     "cell_type": "code",
     "collapsed": false,
     "input": [
      "qismet.DV()"
     ],
     "language": "python",
     "metadata": {},
     "outputs": [
      {
       "output_type": "stream",
       "stream": "stdout",
       "text": [
        "Specialty:  Counterattack      Specialty:  Economy of Movement      "
       ]
      },
      {
       "metadata": {},
       "output_type": "pyout",
       "prompt_number": 59,
       "text": [
        "7"
       ]
      }
     ],
     "prompt_number": 59
    },
    {
     "cell_type": "code",
     "collapsed": false,
     "input": [
      "qismet.temporaryWillpower -= 1  # Perfect Dodge"
     ],
     "language": "python",
     "metadata": {},
     "outputs": [
      {
       "output_type": "stream",
       "stream": "stdout",
       "text": [
        "Willpower 7 remaining of 8\n"
       ]
      }
     ],
     "prompt_number": 60
    },
    {
     "cell_type": "code",
     "collapsed": false,
     "input": [
      "qismet.roll(dex, melee, 4)"
     ],
     "language": "python",
     "metadata": {},
     "outputs": [
      {
       "output_type": "stream",
       "stream": "stdout",
       "text": [
        "Specialty:  Counterattack      Qismet, the Veiled Eagle: Dexterity Melee  [10, 10, 10, 9, 8, 7, 6, 6, 5, 4, 3, 3, 3, 2, 2, 1]\n"
       ]
      },
      {
       "metadata": {},
       "output_type": "pyout",
       "prompt_number": 61,
       "text": [
        "11"
       ]
      }
     ],
     "prompt_number": 61
    },
    {
     "cell_type": "markdown",
     "metadata": {},
     "source": [
      "Qismet dodges with the rope and entangles evil Qismet in the falling warstrider."
     ]
    },
    {
     "cell_type": "code",
     "collapsed": false,
     "input": [
      "c = sc.resolveManual(6)"
     ],
     "language": "python",
     "metadata": {},
     "outputs": [
      {
       "output_type": "stream",
       "stream": "stdout",
       "text": [
        "Done with <Evil Qismet, the Veiled Eagle>\n",
        "It is <Evil Amod Satsugin-sha>'s turn to act.\n"
       ]
      }
     ],
     "prompt_number": 62
    },
    {
     "cell_type": "markdown",
     "metadata": {},
     "source": [
      "Evil Amod come crashing down into the beach (-8 mobility), dragging Evil Qismet behind him.  Evil Qismet become smooshed goo."
     ]
    },
    {
     "cell_type": "code",
     "collapsed": false,
     "input": [
      "amod.dodgeDV()"
     ],
     "language": "python",
     "metadata": {},
     "outputs": [
      {
       "output_type": "stream",
       "stream": "stdout",
       "text": [
        "Specialty:  When eye patch is on right eye      "
       ]
      },
      {
       "metadata": {},
       "output_type": "pyout",
       "prompt_number": 65,
       "text": [
        "9"
       ]
      }
     ],
     "prompt_number": 65
    },
    {
     "cell_type": "code",
     "collapsed": false,
     "input": [
      "c = sc.resolveManual(7)"
     ],
     "language": "python",
     "metadata": {},
     "outputs": [
      {
       "output_type": "stream",
       "stream": "stdout",
       "text": [
        "Done with <Evil Amod Satsugin-sha>\n",
        "It is <\"Lord Varys\">'s turn to act.\n"
       ]
      }
     ],
     "prompt_number": 66
    },
    {
     "cell_type": "code",
     "collapsed": false,
     "input": [
      "c = sc.resolveManual(4)  # Dashing to go save Quinn"
     ],
     "language": "python",
     "metadata": {},
     "outputs": [
      {
       "output_type": "stream",
       "stream": "stdout",
       "text": [
        "Done with <\"Lord Varys\">\n",
        "It is <Amod Satsugin-sha>'s turn to act.\n"
       ]
      }
     ],
     "prompt_number": 67
    },
    {
     "cell_type": "code",
     "collapsed": false,
     "input": [
      "amod.roll(wits, occult) + 3"
     ],
     "language": "python",
     "metadata": {},
     "outputs": [
      {
       "output_type": "stream",
       "stream": "stdout",
       "text": [
        "Specialty:  Undead      Amod Satsugin-sha: Wits Occult  [10, 9, 8, 8, 7, 7, 5, 5, 2, 2, 1]\n"
       ]
      },
      {
       "metadata": {},
       "output_type": "pyout",
       "prompt_number": 68,
       "text": [
        "13"
       ]
      }
     ],
     "prompt_number": 68
    },
    {
     "cell_type": "code",
     "collapsed": false,
     "input": [
      "sc.characters['Evil Amod Satsugin-sha'].takeDamage(6)"
     ],
     "language": "python",
     "metadata": {},
     "outputs": [
      {
       "output_type": "stream",
       "stream": "stdout",
       "text": [
        "Health Levels 1 remaining of 7\n"
       ]
      }
     ],
     "prompt_number": 69
    },
    {
     "cell_type": "markdown",
     "metadata": {},
     "source": [
      "Evil Amod is cooking inside his Bonestrider after being hit with Internal Flame.  Amod beings casting MAGMA KRAKEN!  "
     ]
    },
    {
     "cell_type": "code",
     "collapsed": false,
     "input": [
      "amod.temporaryWillpower -= 3"
     ],
     "language": "python",
     "metadata": {},
     "outputs": [
      {
       "output_type": "stream",
       "stream": "stdout",
       "text": [
        "Willpower 5 remaining of 8\n"
       ]
      }
     ],
     "prompt_number": 92
    },
    {
     "cell_type": "code",
     "collapsed": false,
     "input": [
      "c = sc.resolveManual(13)"
     ],
     "language": "python",
     "metadata": {},
     "outputs": [
      {
       "output_type": "stream",
       "stream": "stdout",
       "text": [
        "Done with <Amod Satsugin-sha>\n",
        "It is <Alatu the Forsaken>'s turn to act.\n"
       ]
      }
     ],
     "prompt_number": 70
    },
    {
     "cell_type": "code",
     "collapsed": false,
     "input": [
      "c = sc.resolveManual(6)"
     ],
     "language": "python",
     "metadata": {},
     "outputs": [
      {
       "output_type": "stream",
       "stream": "stdout",
       "text": [
        "Done with <Alatu the Forsaken>\n",
        "It is <Quinn Lanus>'s turn to act.\n"
       ]
      }
     ],
     "prompt_number": 71
    },
    {
     "cell_type": "code",
     "collapsed": false,
     "input": [
      "nishvathra_health"
     ],
     "language": "python",
     "metadata": {},
     "outputs": [
      {
       "metadata": {},
       "output_type": "pyout",
       "prompt_number": 72,
       "text": [
        "450"
       ]
      }
     ],
     "prompt_number": 72
    },
    {
     "cell_type": "code",
     "collapsed": false,
     "input": [
      "print(sc.battleWheel.tickLayout)"
     ],
     "language": "python",
     "metadata": {},
     "outputs": [
      {
       "output_type": "stream",
       "stream": "stdout",
       "text": [
        "{0: [], 1: [], 3: [], 4: [], 5: [], 6: [], 7: [], 8: [], 9: [], 10: [], 11: [], 12: [<Quinn Lanus>, <Nishvathra>], 13: [<Blinding Storm>, <Evil Quinn Lanus>, <\"Lord Varys\">], 15: [<Qismet, the Veiled Eagle>, <Evil Qismet, the Veiled Eagle>], 16: [<Evil Blinding Storm>, <Evil Amod Satsugin-sha>], 17: [<Evil Alatu the Forsaken>, <Alatu the Forsaken>], 23: [<Amod Satsugin-sha>]}\n"
       ]
      }
     ],
     "prompt_number": 73
    },
    {
     "cell_type": "code",
     "collapsed": false,
     "input": [
      "quinn.roll(dex, martialarts, 2)"
     ],
     "language": "python",
     "metadata": {},
     "outputs": [
      {
       "output_type": "stream",
       "stream": "stdout",
       "text": [
        "Specialty:  One on One      Quinn Lanus: Dexterity MartialArts  [10, 10, 9, 9, 9, 9, 8, 6, 6, 6, 5, 5, 2, 2, 2]\n"
       ]
      },
      {
       "metadata": {},
       "output_type": "pyout",
       "prompt_number": 74,
       "text": [
        "9"
       ]
      }
     ],
     "prompt_number": 74
    },
    {
     "cell_type": "code",
     "collapsed": false,
     "input": [
      "quinn.damageCode()"
     ],
     "language": "python",
     "metadata": {},
     "outputs": [
      {
       "metadata": {},
       "output_type": "pyout",
       "prompt_number": 75,
       "text": [
        "10"
       ]
      }
     ],
     "prompt_number": 75
    },
    {
     "cell_type": "code",
     "collapsed": false,
     "input": [
      "quinn.soak()"
     ],
     "language": "python",
     "metadata": {},
     "outputs": [
      {
       "metadata": {},
       "output_type": "pyout",
       "prompt_number": 76,
       "text": [
        "12"
       ]
      }
     ],
     "prompt_number": 76
    },
    {
     "cell_type": "code",
     "collapsed": false,
     "input": [
      "9-3 + 10 - 12"
     ],
     "language": "python",
     "metadata": {},
     "outputs": [
      {
       "metadata": {},
       "output_type": "pyout",
       "prompt_number": 77,
       "text": [
        "4"
       ]
      }
     ],
     "prompt_number": 77
    },
    {
     "cell_type": "code",
     "collapsed": false,
     "input": [
      "4 * 2 * 2  # 2 actions, plus damage doubler"
     ],
     "language": "python",
     "metadata": {},
     "outputs": [
      {
       "metadata": {},
       "output_type": "pyout",
       "prompt_number": 78,
       "text": [
        "16"
       ]
      }
     ],
     "prompt_number": 78
    },
    {
     "cell_type": "code",
     "collapsed": false,
     "input": [
      "rollDamage(16)"
     ],
     "language": "python",
     "metadata": {},
     "outputs": [
      {
       "output_type": "stream",
       "stream": "stdout",
       "text": [
        "Damage: [10, 10, 9, 9, 8, 7, 7, 6, 5, 4, 4, 3, 2, 2, 1, 1]\n"
       ]
      },
      {
       "metadata": {},
       "output_type": "pyout",
       "prompt_number": 79,
       "text": [
        "7"
       ]
      }
     ],
     "prompt_number": 79
    },
    {
     "cell_type": "code",
     "collapsed": false,
     "input": [
      "quinn.temporaryWillpower -= 2 # Combo and Perfect Defense"
     ],
     "language": "python",
     "metadata": {},
     "outputs": [
      {
       "output_type": "stream",
       "stream": "stdout",
       "text": [
        "Willpower 6 remaining of 8\n"
       ]
      }
     ],
     "prompt_number": 93
    },
    {
     "cell_type": "code",
     "collapsed": false,
     "input": [
      "c = sc.resolveManual(7)"
     ],
     "language": "python",
     "metadata": {},
     "outputs": [
      {
       "output_type": "stream",
       "stream": "stdout",
       "text": [
        "Done with <Quinn Lanus>\n",
        "It is <Nishvathra>'s turn to act.\n"
       ]
      }
     ],
     "prompt_number": 80
    },
    {
     "cell_type": "code",
     "collapsed": false,
     "input": [
      "c = sc.resolveManual(6)"
     ],
     "language": "python",
     "metadata": {},
     "outputs": [
      {
       "output_type": "stream",
       "stream": "stdout",
       "text": [
        "Done with <Nishvathra>\n",
        "It is <Blinding Storm>'s turn to act.\n"
       ]
      }
     ],
     "prompt_number": 81
    },
    {
     "cell_type": "code",
     "collapsed": false,
     "input": [
      "nishvathra_health"
     ],
     "language": "python",
     "metadata": {},
     "outputs": [
      {
       "metadata": {},
       "output_type": "pyout",
       "prompt_number": 82,
       "text": [
        "450"
       ]
      }
     ],
     "prompt_number": 82
    },
    {
     "cell_type": "code",
     "collapsed": false,
     "input": [
      "storm.roll(dex, archery)"
     ],
     "language": "python",
     "metadata": {},
     "outputs": [
      {
       "output_type": "stream",
       "stream": "stdout",
       "text": [
        "Blinding Storm: Dexterity Archery  [7, 6, 3, 1, 1]\n"
       ]
      },
      {
       "metadata": {},
       "output_type": "pyout",
       "prompt_number": 83,
       "text": [
        "1"
       ]
      }
     ],
     "prompt_number": 83
    },
    {
     "cell_type": "code",
     "collapsed": false,
     "input": [
      "nishvathra_health -= 31"
     ],
     "language": "python",
     "metadata": {},
     "outputs": [],
     "prompt_number": 84
    },
    {
     "cell_type": "code",
     "collapsed": false,
     "input": [
      "nishvathra_health -= 44 # Icebergs\n",
      "nishvathra_health -= 50 # Vitriol"
     ],
     "language": "python",
     "metadata": {},
     "outputs": [],
     "prompt_number": 85
    },
    {
     "cell_type": "code",
     "collapsed": false,
     "input": [
      "nishvathra_health"
     ],
     "language": "python",
     "metadata": {},
     "outputs": [
      {
       "metadata": {},
       "output_type": "pyout",
       "prompt_number": 86,
       "text": [
        "325"
       ]
      }
     ],
     "prompt_number": 86
    },
    {
     "cell_type": "code",
     "collapsed": false,
     "input": [
      "c = sc.resolveManual(4)"
     ],
     "language": "python",
     "metadata": {},
     "outputs": [
      {
       "output_type": "stream",
       "stream": "stdout",
       "text": [
        "Done with <Blinding Storm>\n",
        "It is <Evil Quinn Lanus>'s turn to act.\n"
       ]
      }
     ],
     "prompt_number": 88
    },
    {
     "cell_type": "code",
     "collapsed": false,
     "input": [
      "sc.battleWheel.removeCharacter(c)"
     ],
     "language": "python",
     "metadata": {},
     "outputs": [
      {
       "metadata": {},
       "output_type": "pyout",
       "prompt_number": 89,
       "text": [
        "True"
       ]
      }
     ],
     "prompt_number": 89
    },
    {
     "cell_type": "code",
     "collapsed": false,
     "input": [
      "c = sc.battleWheel.getCurrentCharacter()\n",
      "c"
     ],
     "language": "python",
     "metadata": {},
     "outputs": [
      {
       "metadata": {},
       "output_type": "pyout",
       "prompt_number": 91,
       "text": [
        "<\"Lord Varys\">"
       ]
      }
     ],
     "prompt_number": 91
    },
    {
     "cell_type": "code",
     "collapsed": false,
     "input": [
      "c = sc.resolveManual(9)\n",
      "nishvathra_health -= 32\n",
      "nishvathra_health"
     ],
     "language": "python",
     "metadata": {},
     "outputs": [
      {
       "output_type": "stream",
       "stream": "stdout",
       "text": [
        "Done with <\"Lord Varys\">\n",
        "It is <Qismet, the Veiled Eagle>'s turn to act.\n"
       ]
      },
      {
       "metadata": {},
       "output_type": "pyout",
       "prompt_number": 94,
       "text": [
        "293"
       ]
      }
     ],
     "prompt_number": 94
    },
    {
     "cell_type": "code",
     "collapsed": false,
     "input": [
      "sc.battleWheel.tickLayout"
     ],
     "language": "python",
     "metadata": {},
     "outputs": [
      {
       "metadata": {},
       "output_type": "pyout",
       "prompt_number": 95,
       "text": [
        "{0: [],\n",
        " 1: [],\n",
        " 3: [],\n",
        " 4: [],\n",
        " 5: [],\n",
        " 6: [],\n",
        " 7: [],\n",
        " 8: [],\n",
        " 9: [],\n",
        " 10: [],\n",
        " 11: [],\n",
        " 12: [],\n",
        " 13: [],\n",
        " 15: [<Qismet, the Veiled Eagle>, <Evil Qismet, the Veiled Eagle>],\n",
        " 16: [<Evil Blinding Storm>, <Evil Amod Satsugin-sha>],\n",
        " 17: [<Evil Alatu the Forsaken>, <Alatu the Forsaken>, <Blinding Storm>],\n",
        " 18: [<Nishvathra>],\n",
        " 19: [<Quinn Lanus>],\n",
        " 22: [<\"Lord Varys\">],\n",
        " 23: [<Amod Satsugin-sha>]}"
       ]
      }
     ],
     "prompt_number": 95
    },
    {
     "cell_type": "markdown",
     "metadata": {},
     "source": [
      "Qismet is Aiming at Nishvathra."
     ]
    },
    {
     "cell_type": "code",
     "collapsed": false,
     "input": [
      "c = sc.resolveManual(3)"
     ],
     "language": "python",
     "metadata": {},
     "outputs": [
      {
       "output_type": "stream",
       "stream": "stdout",
       "text": [
        "Done with <Qismet, the Veiled Eagle>\n",
        "It is <Evil Qismet, the Veiled Eagle>'s turn to act.\n"
       ]
      }
     ],
     "prompt_number": 96
    },
    {
     "cell_type": "code",
     "collapsed": false,
     "input": [
      "sc.battleWheel.removeCharacter(c)\n",
      "c = sc.battleWheel.getCurrentCharacter()"
     ],
     "language": "python",
     "metadata": {},
     "outputs": [],
     "prompt_number": 97
    },
    {
     "cell_type": "markdown",
     "metadata": {},
     "source": [
      "Evil Blinding Storm Burned to death."
     ]
    },
    {
     "cell_type": "code",
     "collapsed": false,
     "input": [
      "sc.battleWheel.removeCharacter(c)\n",
      "c = sc.battleWheel.getCurrentCharacter()"
     ],
     "language": "python",
     "metadata": {},
     "outputs": [],
     "prompt_number": 100
    },
    {
     "cell_type": "code",
     "collapsed": false,
     "input": [
      "c"
     ],
     "language": "python",
     "metadata": {},
     "outputs": [
      {
       "metadata": {},
       "output_type": "pyout",
       "prompt_number": 101,
       "text": [
        "<Evil Amod Satsugin-sha>"
       ]
      }
     ],
     "prompt_number": 101
    },
    {
     "cell_type": "markdown",
     "metadata": {},
     "source": [
      "Blinding Storm botches while firing the Essence Cannon.  There's a feedback loop due to improper use of an essence cannon.  It fires at point blank on the tower.  Storm uses Adamant Skin to absorb the shockwave.  What's left is a broken essence cannon."
     ]
    },
    {
     "cell_type": "code",
     "collapsed": false,
     "input": [
      "storm.temporaryWillpower -= 1"
     ],
     "language": "python",
     "metadata": {},
     "outputs": [
      {
       "output_type": "stream",
       "stream": "stdout",
       "text": [
        "Willpower 2 remaining of 8\n"
       ]
      }
     ],
     "prompt_number": 103
    },
    {
     "cell_type": "code",
     "collapsed": false,
     "input": [
      "sc.battleWheel.tickLayout"
     ],
     "language": "python",
     "metadata": {},
     "outputs": [
      {
       "metadata": {},
       "output_type": "pyout",
       "prompt_number": 104,
       "text": [
        "{0: [],\n",
        " 1: [],\n",
        " 3: [],\n",
        " 4: [],\n",
        " 5: [],\n",
        " 6: [],\n",
        " 7: [],\n",
        " 8: [],\n",
        " 9: [],\n",
        " 10: [],\n",
        " 11: [],\n",
        " 12: [],\n",
        " 13: [],\n",
        " 15: [],\n",
        " 16: [<Evil Amod Satsugin-sha>],\n",
        " 17: [<Evil Alatu the Forsaken>, <Alatu the Forsaken>, <Blinding Storm>],\n",
        " 18: [<Nishvathra>, <Qismet, the Veiled Eagle>],\n",
        " 19: [<Quinn Lanus>],\n",
        " 22: [<\"Lord Varys\">],\n",
        " 23: [<Amod Satsugin-sha>]}"
       ]
      }
     ],
     "prompt_number": 104
    },
    {
     "cell_type": "code",
     "collapsed": false,
     "input": [
      "sc.battleWheel.removeCharacter(c)\n",
      "c = sc.battleWheel.getCurrentCharacter()"
     ],
     "language": "python",
     "metadata": {},
     "outputs": [],
     "prompt_number": 106
    },
    {
     "cell_type": "code",
     "collapsed": false,
     "input": [
      "c"
     ],
     "language": "python",
     "metadata": {},
     "outputs": [
      {
       "metadata": {},
       "output_type": "pyout",
       "prompt_number": 107,
       "text": [
        "<Evil Alatu the Forsaken>"
       ]
      }
     ],
     "prompt_number": 107
    },
    {
     "cell_type": "code",
     "collapsed": false,
     "input": [
      "c = sc.resolveManual(13)"
     ],
     "language": "python",
     "metadata": {},
     "outputs": [
      {
       "output_type": "stream",
       "stream": "stdout",
       "text": [
        "Done with <Evil Alatu the Forsaken>\n",
        "It is <Alatu the Forsaken>'s turn to act.\n"
       ]
      }
     ],
     "prompt_number": 108
    },
    {
     "cell_type": "markdown",
     "metadata": {},
     "source": [
      "Alatu begins casting BONE KRAKEN!"
     ]
    },
    {
     "cell_type": "code",
     "collapsed": false,
     "input": [
      "c = sc.resolveManual(13)"
     ],
     "language": "python",
     "metadata": {},
     "outputs": [
      {
       "output_type": "stream",
       "stream": "stdout",
       "text": [
        "Done with <Alatu the Forsaken>\n",
        "It is <Blinding Storm>'s turn to act.\n"
       ]
      }
     ],
     "prompt_number": 109
    },
    {
     "cell_type": "markdown",
     "metadata": {},
     "source": [
      "Blinding Storm fires a smaller Essence Cannon.  He's a little gun shy."
     ]
    },
    {
     "cell_type": "code",
     "collapsed": false,
     "input": [
      "nishvathra_health -= 16\n",
      "nishvathra_health"
     ],
     "language": "python",
     "metadata": {},
     "outputs": [
      {
       "metadata": {},
       "output_type": "pyout",
       "prompt_number": 110,
       "text": [
        "277"
       ]
      }
     ],
     "prompt_number": 110
    },
    {
     "cell_type": "code",
     "collapsed": false,
     "input": [
      "c = sc.resolveManual(7)"
     ],
     "language": "python",
     "metadata": {},
     "outputs": [
      {
       "output_type": "stream",
       "stream": "stdout",
       "text": [
        "Done with <Blinding Storm>\n",
        "It is <Nishvathra>'s turn to act.\n"
       ]
      }
     ],
     "prompt_number": 111
    },
    {
     "cell_type": "code",
     "collapsed": false,
     "input": [
      "c = sc.resolveManual(6)"
     ],
     "language": "python",
     "metadata": {},
     "outputs": [
      {
       "output_type": "stream",
       "stream": "stdout",
       "text": [
        "Done with <Nishvathra>\n",
        "It is <Qismet, the Veiled Eagle>'s turn to act.\n"
       ]
      }
     ],
     "prompt_number": 112
    },
    {
     "cell_type": "code",
     "collapsed": false,
     "input": [
      "def nishvathra_dots():\n",
      "    nishvathra_health -= 44 # Icebergs\n",
      "    nishvathra_health -= 50 # Vitriol\n",
      "    return nishvathra_health"
     ],
     "language": "python",
     "metadata": {},
     "outputs": [],
     "prompt_number": 113
    },
    {
     "cell_type": "code",
     "collapsed": false,
     "input": [
      "nishvathra_health -= 44 # Icebergs\n",
      "nishvathra_health -= 50 # Vitriol\n",
      "nishvathra_health"
     ],
     "language": "python",
     "metadata": {},
     "outputs": [
      {
       "metadata": {},
       "output_type": "pyout",
       "prompt_number": 115,
       "text": [
        "183"
       ]
      }
     ],
     "prompt_number": 115
    },
    {
     "cell_type": "code",
     "collapsed": false,
     "input": [
      "nishvathra_health -= 7 # Spell explosion\n",
      "nishvathra_health"
     ],
     "language": "python",
     "metadata": {},
     "outputs": [
      {
       "metadata": {},
       "output_type": "pyout",
       "prompt_number": 116,
       "text": [
        "176"
       ]
      }
     ],
     "prompt_number": 116
    },
    {
     "cell_type": "code",
     "collapsed": false,
     "input": [
      "c = sc.resolveManual(6)"
     ],
     "language": "python",
     "metadata": {},
     "outputs": [
      {
       "output_type": "stream",
       "stream": "stdout",
       "text": [
        "Done with <Qismet, the Veiled Eagle>\n",
        "It is <Quinn Lanus>'s turn to act.\n"
       ]
      }
     ],
     "prompt_number": 117
    },
    {
     "cell_type": "markdown",
     "metadata": {},
     "source": [
      "Quinn runs down the beach, crafting a quick heat shield for his compatriots so they don't get burned by the MAGMA KRAKEN!"
     ]
    },
    {
     "cell_type": "code",
     "collapsed": false,
     "input": [
      "c = sc.resolveManual(6)"
     ],
     "language": "python",
     "metadata": {},
     "outputs": [
      {
       "output_type": "stream",
       "stream": "stdout",
       "text": [
        "Done with <Quinn Lanus>\n",
        "It is <\"Lord Varys\">'s turn to act.\n"
       ]
      }
     ],
     "prompt_number": 118
    },
    {
     "cell_type": "markdown",
     "metadata": {},
     "source": [
      "Fires the Essence cannon: 2 successes"
     ]
    },
    {
     "cell_type": "code",
     "collapsed": false,
     "input": [
      "nishvathra_health -= 32 # Grey fires the cannon\n",
      "nishvathra_health"
     ],
     "language": "python",
     "metadata": {},
     "outputs": [
      {
       "metadata": {},
       "output_type": "pyout",
       "prompt_number": 120,
       "text": [
        "144"
       ]
      }
     ],
     "prompt_number": 120
    },
    {
     "cell_type": "code",
     "collapsed": false,
     "input": [
      "c = sc.resolveManual(9)"
     ],
     "language": "python",
     "metadata": {},
     "outputs": [
      {
       "output_type": "stream",
       "stream": "stdout",
       "text": [
        "Done with <\"Lord Varys\">\n",
        "It is <Amod Satsugin-sha>'s turn to act.\n"
       ]
      }
     ],
     "prompt_number": 119
    },
    {
     "cell_type": "markdown",
     "metadata": {},
     "source": [
      "Several Actions: Amod finishes MAGMA KRAKEN.  He steps onto a heat shield and it throws himself high in the air over the Island.  One the pinnacle, he uses his warstrider to throw Qismet (Cascade of Cutting Qismet).  "
     ]
    },
    {
     "cell_type": "code",
     "collapsed": false,
     "input": [
      "c = sc.resolveManual(5)"
     ],
     "language": "python",
     "metadata": {},
     "outputs": [
      {
       "output_type": "stream",
       "stream": "stdout",
       "text": [
        "Done with <Amod Satsugin-sha>\n",
        "It is <Blinding Storm>'s turn to act.\n"
       ]
      }
     ],
     "prompt_number": 121
    },
    {
     "cell_type": "markdown",
     "metadata": {},
     "source": [
      "Base Qismet damage...  \n",
      "Lots of Charms were involved..."
     ]
    },
    {
     "cell_type": "code",
     "collapsed": false,
     "input": [
      "print(qismet.roll(dex, melee, 2+2) )"
     ],
     "language": "python",
     "metadata": {},
     "outputs": [
      {
       "output_type": "stream",
       "stream": "stdout",
       "text": [
        "Specialty:  Counterattack      Qismet, the Veiled Eagle: Dexterity Melee  [10, 9, 9, 6, 6, 5, 5, 4, 4, 4, 3, 3, 3, 3, 3, 1]\n",
        "6\n"
       ]
      }
     ],
     "prompt_number": 123
    },
    {
     "cell_type": "code",
     "collapsed": false,
     "input": [
      "(5+3+3+6)*6 - 15 #Piercing "
     ],
     "language": "python",
     "metadata": {},
     "outputs": [
      {
       "metadata": {},
       "output_type": "pyout",
       "prompt_number": 131,
       "text": [
        "87"
       ]
      }
     ],
     "prompt_number": 131
    },
    {
     "cell_type": "code",
     "collapsed": false,
     "input": [
      "nishvathra_health -= 87 # Qismets' crazy charm dive explosion\n",
      "nishvathra_health"
     ],
     "language": "python",
     "metadata": {},
     "outputs": [
      {
       "metadata": {},
       "output_type": "pyout",
       "prompt_number": 133,
       "text": [
        "57"
       ]
      }
     ],
     "prompt_number": 133
    },
    {
     "cell_type": "markdown",
     "metadata": {},
     "source": [
      "Amod: Requip!  Essence Cannon fire at the Island.  Essence Cannons are 20B Piercing."
     ]
    },
    {
     "cell_type": "code",
     "collapsed": false,
     "input": [
      "print(sc.battleWheel.tickLayout)"
     ],
     "language": "python",
     "metadata": {},
     "outputs": [
      {
       "output_type": "stream",
       "stream": "stdout",
       "text": [
        "{0: [], 1: [], 3: [], 4: [], 5: [], 6: [], 7: [], 8: [], 9: [], 10: [], 11: [], 12: [], 13: [], 15: [], 16: [], 17: [], 18: [], 19: [], 22: [], 23: [], 24: [<Blinding Storm>, <Nishvathra>, <Qismet, the Veiled Eagle>], 25: [<Quinn Lanus>], 28: [<Amod Satsugin-sha>], 30: [<Evil Alatu the Forsaken>, <Alatu the Forsaken>], 31: [<\"Lord Varys\">]}\n"
       ]
      }
     ],
     "prompt_number": 122
    },
    {
     "cell_type": "markdown",
     "metadata": {},
     "source": [
      "Blindg Storm heads down to the shore to rescue someone.  Not sure who."
     ]
    },
    {
     "cell_type": "code",
     "collapsed": false,
     "input": [
      "c = sc.resolveManual(4)"
     ],
     "language": "python",
     "metadata": {},
     "outputs": [
      {
       "output_type": "stream",
       "stream": "stdout",
       "text": [
        "Done with <Blinding Storm>\n",
        "It is <Nishvathra>'s turn to act.\n"
       ]
      }
     ],
     "prompt_number": 134
    },
    {
     "cell_type": "code",
     "collapsed": false,
     "input": [
      "nishvathra_health -= 44 # Icebergs\n",
      "nishvathra_health -= 50 # Vitriol\n",
      "nishvathra_health"
     ],
     "language": "python",
     "metadata": {},
     "outputs": [
      {
       "metadata": {},
       "output_type": "pyout",
       "prompt_number": 135,
       "text": [
        "-37"
       ]
      }
     ],
     "prompt_number": 135
    },
    {
     "cell_type": "markdown",
     "metadata": {},
     "source": [
      "Amod: Then requips a Grand Goremaul before landing and slams it into the Island."
     ]
    },
    {
     "cell_type": "markdown",
     "metadata": {},
     "source": [
      "The island begins to break apart.  Magma Karaken tears apart the island as it gets closer.  There are flows of Vitriol seeping into the ocean.  Amod falls out of the Sky with a Goremaul and cracks the Island in half.  Fahkaru stop his channeling of elementals and creates a massive whirlpool around the Vitriol.  Many lesser elementals flake off and die.  "
     ]
    },
    {
     "cell_type": "code",
     "collapsed": false,
     "input": [
      "qismet.weaponStats"
     ],
     "language": "python",
     "metadata": {},
     "outputs": [
      {
       "metadata": {},
       "output_type": "pyout",
       "prompt_number": 137,
       "text": [
        "{'accuracy': 0,\n",
        " 'allowForeignAttunement': True,\n",
        " 'attuneCost': 3,\n",
        " 'damage': 0,\n",
        " 'damageTypeString': 'Lethal',\n",
        " 'defence': 0,\n",
        " 'inflictsNoDamage': False,\n",
        " 'minimumDamage': 1,\n",
        " 'name': \"Eagle's Sheathed Talons\",\n",
        " 'rate': 1,\n",
        " 'requireAttunement': False,\n",
        " 'speed': 1,\n",
        " 'tags': [],\n",
        " 'type': 'Melee Weapon'}"
       ]
      }
     ],
     "prompt_number": 137
    },
    {
     "cell_type": "code",
     "collapsed": false,
     "input": [],
     "language": "python",
     "metadata": {},
     "outputs": []
    }
   ],
   "metadata": {}
  }
 ]
}