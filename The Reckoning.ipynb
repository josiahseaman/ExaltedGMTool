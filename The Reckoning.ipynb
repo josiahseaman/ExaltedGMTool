{
 "metadata": {
  "name": ""
 },
 "nbformat": 3,
 "nbformat_minor": 0,
 "worksheets": [
  {
   "cells": [
    {
     "cell_type": "code",
     "collapsed": false,
     "input": [
      "from Glossary import *"
     ],
     "language": "python",
     "metadata": {},
     "outputs": [
      {
       "output_type": "stream",
       "stream": "stdout",
       "text": [
        "Alatu is missing Armor\n",
        "Alatu is missing Weapon\n",
        "Amod is missing Armor\n",
        "Quinn is missing Armor\n",
        "Quinn is missing Weapon\n",
        "Blinding is missing Armor\n",
        "Blinding is missing Weapon\n",
        "\"Lord is missing Armor\n",
        "\"Lord is missing Weapon\n"
       ]
      }
     ],
     "prompt_number": 1
    },
    {
     "cell_type": "code",
     "collapsed": false,
     "input": [
      "alatu.roll(dex, occult)"
     ],
     "language": "python",
     "metadata": {},
     "outputs": [
      {
       "output_type": "stream",
       "stream": "stdout",
       "text": [
        "Specialty: Necromancy Alatu: Dexterity Occult  [10, 10, 9, 7, 5, 4, 4, 4, 3, 3, 2, 1, 1]\n"
       ]
      },
      {
       "metadata": {},
       "output_type": "pyout",
       "prompt_number": 2,
       "text": [
        "9"
       ]
      }
     ],
     "prompt_number": 2
    },
    {
     "cell_type": "code",
     "collapsed": false,
     "input": [
      "sc.beginBattle()"
     ],
     "language": "python",
     "metadata": {},
     "outputs": [
      {
       "output_type": "stream",
       "stream": "stdout",
       "text": [
        "Evil Alatu: Wits Awareness  [10, 8, 5, 4, 3, 3, 3, 3, 2]\n",
        "Specialty: What Doesn't Belong Qismet: Wits Awareness  [10, 8, 7, 6, 6, 5, 5, 4, 3, 3, 1]\n",
        "\"Lord: Wits Awareness  [9, 8, 7, 6, 6, 5, 2, 2, 1]\n",
        "Specialty: When eye patch is resting above right eye Evil Amod: Wits Awareness  [10, 9, 8, 6, 6, 6, 5, 3, 3, 2, 1]\n",
        "Evil Quinn: Wits Awareness  [10, 9, 9, 9, 8, 4, 2, 1]\n",
        "Quinn: Wits Awareness  [10, 9, 9, 7, 5, 4, 4, 3]\n",
        "Evil Blinding: Wits Awareness  [10, 9, 8, 8, 6, 3, 1, 1, 1]\n",
        "Specialty: When eye patch is resting above right eye Amod: Wits Awareness  [8, 8, 7, 6, 6, 5, 4, 3, 2, 1, 1]\n",
        "Specialty: What Doesn't Belong Evil Qismet: Wits Awareness  [10, 9, 7, 7, 5, 5, 5, 4, 4, 4, 3]\n",
        "Blinding: Wits Awareness  [8, 7, 7, 7, 4, 3, 3, 2, 1]\n",
        "Alatu: Wits Awareness  [10, 10, 8, 8, 8, 7, 6, 4, 3]\n",
        "Evil \"Lord: Wits Awareness  [10, 8, 8, 7, 6, 4, 4, 4, 3]\n",
        "{0: [<Alatu>, <Evil Qismet>], 1: [<Qismet>, <Evil \"Lord>], 2: [<Evil Quinn>], 3: [<\"Lord>, <Quinn>, <Evil Blinding>], 4: [<Blinding>, <Evil Amod>], 5: [<Amod>, <Evil Alatu>]}\n"
       ]
      },
      {
       "metadata": {},
       "output_type": "pyout",
       "prompt_number": 3,
       "text": [
        "<Alatu>"
       ]
      }
     ],
     "prompt_number": 3
    },
    {
     "cell_type": "code",
     "collapsed": false,
     "input": [
      "alatu[willpower]"
     ],
     "language": "python",
     "metadata": {},
     "outputs": [
      {
       "metadata": {},
       "output_type": "pyout",
       "prompt_number": 5,
       "text": [
        "7"
       ]
      }
     ],
     "prompt_number": 5
    },
    {
     "cell_type": "heading",
     "level": 3,
     "metadata": {},
     "source": [
      "Quinn and Qismet"
     ]
    },
    {
     "cell_type": "markdown",
     "metadata": {},
     "source": [
      "Quinn makes a repair roll on the Warbird:"
     ]
    },
    {
     "cell_type": "code",
     "collapsed": false,
     "input": [
      "quinn.roll(intelligence, craft)"
     ],
     "language": "python",
     "metadata": {},
     "outputs": [
      {
       "output_type": "stream",
       "stream": "stdout",
       "text": [
        "Specialty: Anti-Magic Quinn: Intelligence Craft  [10, 10, 9, 8, 7, 7, 6, 4, 4, 3, 2, 1, 1]\n"
       ]
      },
      {
       "metadata": {},
       "output_type": "pyout",
       "prompt_number": 5,
       "text": [
        "11"
       ]
      }
     ],
     "prompt_number": 5
    },
    {
     "cell_type": "code",
     "collapsed": false,
     "input": [],
     "language": "python",
     "metadata": {},
     "outputs": [],
     "prompt_number": 6
    },
    {
     "cell_type": "code",
     "collapsed": false,
     "input": [],
     "language": "python",
     "metadata": {},
     "outputs": []
    }
   ],
   "metadata": {}
  }
 ]
}