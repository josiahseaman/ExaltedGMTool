{
 "metadata": {
  "name": ""
 },
 "nbformat": 3,
 "nbformat_minor": 0,
 "worksheets": [
  {
   "cells": [
    {
     "cell_type": "code",
     "collapsed": false,
     "input": [
      "from AnathemaParser import *"
     ],
     "language": "python",
     "metadata": {},
     "outputs": [],
     "prompt_number": 1
    },
    {
     "cell_type": "code",
     "collapsed": false,
     "input": [
      "ap = AnathemaParser('Willow.ecg')"
     ],
     "language": "python",
     "metadata": {},
     "outputs": [],
     "prompt_number": 2
    },
    {
     "cell_type": "code",
     "collapsed": false,
     "input": [
      "root = ap.root"
     ],
     "language": "python",
     "metadata": {},
     "outputs": [],
     "prompt_number": 3
    },
    {
     "cell_type": "code",
     "collapsed": false,
     "input": [
      "root.attrib['repositoryPrintName']"
     ],
     "language": "python",
     "metadata": {},
     "outputs": [
      {
       "metadata": {},
       "output_type": "pyout",
       "prompt_number": 4,
       "text": [
        "'Willow'"
       ]
      }
     ],
     "prompt_number": 4
    },
    {
     "cell_type": "code",
     "collapsed": false,
     "input": [
      "element = next(root.iter('CharacterName'))"
     ],
     "language": "python",
     "metadata": {},
     "outputs": [],
     "prompt_number": 5
    },
    {
     "cell_type": "code",
     "collapsed": false,
     "input": [
      "\",\".join(element.itertext())"
     ],
     "language": "python",
     "metadata": {},
     "outputs": [
      {
       "metadata": {},
       "output_type": "pyout",
       "prompt_number": 6,
       "text": [
        "'Willow'"
       ]
      }
     ],
     "prompt_number": 6
    },
    {
     "cell_type": "code",
     "collapsed": false,
     "input": [
      "ap.parse_to_dictionary()"
     ],
     "language": "python",
     "metadata": {},
     "outputs": [
      {
       "metadata": {},
       "output_type": "pyout",
       "prompt_number": 7,
       "text": [
        "{'Appearance': 4,\n",
        " 'Archery': 0,\n",
        " 'Athletics': 3,\n",
        " 'Awareness': 5,\n",
        " 'Bureaucracy': 0,\n",
        " 'Charisma': 5,\n",
        " 'Compassion': 2,\n",
        " 'Concept': 'Druid Sorceror',\n",
        " 'Conviction': 3,\n",
        " 'Craft': 0,\n",
        " 'Dexterity': 3,\n",
        " 'Dodge': 5,\n",
        " 'Equipment': ['Superheavy Plate (Artifact)',\n",
        "  'Wood Dragon Claw (Offensive)',\n",
        "  'Wood Dragon Claw (Defensive)'],\n",
        " 'Essence': 4,\n",
        " 'Integrity': 0,\n",
        " 'Intelligence': 4,\n",
        " 'Investigation': 0,\n",
        " 'Larceny': 0,\n",
        " 'Limit': 0,\n",
        " 'Linguistics': 0,\n",
        " 'Lore': 2,\n",
        " 'Manipulation': 2,\n",
        " 'MartialArts': 5,\n",
        " 'Medicine': 0,\n",
        " 'Melee': 0,\n",
        " 'Name': 'Willow',\n",
        " 'Occult': 5,\n",
        " 'Perception': 3,\n",
        " 'Performance': 1,\n",
        " 'Player': 'Corina',\n",
        " 'Presence': 3,\n",
        " 'Resistance': 1,\n",
        " 'Ride': 1,\n",
        " 'Sail': 0,\n",
        " 'Socialize': 1,\n",
        " 'Specialties': {'Occult': ('Forest', 3), 'Survival': ('Leading Groups', 1)},\n",
        " 'Stamina': 2,\n",
        " 'Stealth': 2,\n",
        " 'Strength': 2,\n",
        " 'Survival': 5,\n",
        " 'Temperance': 2,\n",
        " 'Thrown': 0,\n",
        " 'Type': 'Solar',\n",
        " 'Valor': 2,\n",
        " 'War': 0,\n",
        " 'Willpower': 7,\n",
        " 'Wits': 2}"
       ]
      }
     ],
     "prompt_number": 7
    },
    {
     "cell_type": "code",
     "collapsed": false,
     "input": [],
     "language": "python",
     "metadata": {},
     "outputs": [],
     "prompt_number": 7
    }
   ],
   "metadata": {}
  }
 ]
}