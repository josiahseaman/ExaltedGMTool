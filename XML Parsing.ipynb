{
 "metadata": {
  "name": ""
 },
 "nbformat": 3,
 "nbformat_minor": 0,
 "worksheets": [
  {
   "cells": [
    {
     "cell_type": "code",
     "collapsed": false,
     "input": [
      "%reload_ext AnathemaParser\n",
      "from AnathemaParser import *"
     ],
     "language": "python",
     "metadata": {},
     "outputs": [],
     "prompt_number": 1
    },
    {
     "cell_type": "code",
     "collapsed": false,
     "input": [
      "ap = AnathemaParser('QuinnLanus.ecg')\n",
      "root = ap.root\n",
      "root.attrib['repositoryPrintName']"
     ],
     "language": "python",
     "metadata": {},
     "outputs": [
      {
       "metadata": {},
       "output_type": "pyout",
       "prompt_number": 4,
       "text": [
        "'Quinn Lanus'"
       ]
      }
     ],
     "prompt_number": 4
    },
    {
     "cell_type": "code",
     "collapsed": false,
     "input": [
      "ap.parse_to_dictionary()"
     ],
     "language": "python",
     "metadata": {},
     "outputs": [
      {
       "metadata": {},
       "output_type": "pyout",
       "prompt_number": 5,
       "text": [
        "{'Appearance': 5,\n",
        " 'Archery': 5,\n",
        " 'Athletics': 0,\n",
        " 'Awareness': 3,\n",
        " 'Backgrounds': [Artifact (Potentiality Cage): 4,\n",
        "  Artifact (Hands of the Great Maker): 3,\n",
        "  Backing (Celestial Bureaucracy): 3,\n",
        "  Resources (Magical Manufacture): 5],\n",
        " 'Bureaucracy': 5,\n",
        " 'Charisma': 1,\n",
        " 'Charms': [('Irresistible Salesman Spirit', 'Presence', 'Solar'),\n",
        "  ('2nd Excellency', 'Presence', 'Solar'),\n",
        "  ('Speed Wheels', 'Bureaucracy', 'Solar'),\n",
        "  ('Bureau-Rectifying Method', 'Bureaucracy', 'Solar'),\n",
        "  ('2nd Excellency', 'Bureaucracy', 'Solar'),\n",
        "  ('Craftsman Needs No Tools', 'Craft', 'Solar'),\n",
        "  ('2nd Excellency', 'Craft', 'Solar'),\n",
        "  ('Twisted Words Technique', 'Linguistics', 'Solar'),\n",
        "  ('Sagacious Reading Intent', 'Linguistics', 'Solar'),\n",
        "  ('Letter-Within-a-Letter Technique', 'Linguistics', 'Solar'),\n",
        "  ('2nd Excellency', 'Linguistics', 'Solar'),\n",
        "  ('Refusal Sutra', 'MartialArts', 'Solar'),\n",
        "  ('Orichalcum Conditioning', 'MartialArts', 'Solar'),\n",
        "  ('2nd Excellency', 'MartialArts', 'Solar'),\n",
        "  ('3rd Excellency', 'Lore', 'Solar'),\n",
        "  ('Wyld-Shaping Technique', 'Lore', 'Solar'),\n",
        "  ('Chaos-Repelling Pattern', 'Lore', 'Solar'),\n",
        "  ('2nd Excellency', 'Lore', 'Solar'),\n",
        "  ('Efficient Secretary Technique', 'Investigation', 'Sidereal'),\n",
        "  ('Kiss Of The Sun Concentration', 'RighteousDevilStyle', 'Solar'),\n",
        "  ('Blossom Of Inevitable Demise Technique', 'RighteousDevilStyle', 'Solar')],\n",
        " 'Compassion': 2,\n",
        " 'Concept': 'Reality Engineer',\n",
        " 'Conviction': 5,\n",
        " 'Craft': 5,\n",
        " 'Dexterity': 5,\n",
        " 'Dodge': 0,\n",
        " 'Equipment': ['Flame Piece',\n",
        "  'Flame Piece',\n",
        "  'Reinforced Breastplate (Artifact)'],\n",
        " 'Essence': 3,\n",
        " 'Integrity': 3,\n",
        " 'Intelligence': 5,\n",
        " 'Investigation': 5,\n",
        " 'Larceny': 2,\n",
        " 'Limit': 6,\n",
        " 'Linguistics': 5,\n",
        " 'Lore': 5,\n",
        " 'Manipulation': 5,\n",
        " 'MartialArts': 5,\n",
        " 'Medicine': 3,\n",
        " 'Melee': 0,\n",
        " 'Name': 'Quinn Lanus',\n",
        " 'Occult': 4,\n",
        " 'Perception': 4,\n",
        " 'Performance': 0,\n",
        " 'Player': 'Josiah',\n",
        " 'Presence': 5,\n",
        " 'Resistance': 3,\n",
        " 'Ride': 0,\n",
        " 'Sail': 0,\n",
        " 'Socialize': 2,\n",
        " 'Specialties': {'Bureaucracy': ('Celestial', 3),\n",
        "  'Craft': ('Anti-Magic', 3),\n",
        "  'Investigation': ('Deduction', 3),\n",
        "  'Linguistics': ('Writing', 3),\n",
        "  'Lore': ('Wyld Shaping', 3),\n",
        "  'MartialArts': ('One on One', 3),\n",
        "  'Occult': ('Thaumaturgy', 2),\n",
        "  'Presence': ('Explanation', 3),\n",
        "  'Socialize': ('Analysis', 3)},\n",
        " 'Spells': [],\n",
        " 'Stamina': 2,\n",
        " 'Stealth': 0,\n",
        " 'Strength': 2,\n",
        " 'Survival': 0,\n",
        " 'Temperance': 4,\n",
        " 'Thrown': 0,\n",
        " 'Type': 'Solar',\n",
        " 'Valor': 3,\n",
        " 'War': 0,\n",
        " 'Willpower': 8,\n",
        " 'Wits': 5}"
       ]
      }
     ],
     "prompt_number": 5
    },
    {
     "cell_type": "code",
     "collapsed": false,
     "input": [
      "from Glossary import *"
     ],
     "language": "python",
     "metadata": {},
     "outputs": [],
     "prompt_number": 4
    },
    {
     "cell_type": "code",
     "collapsed": false,
     "input": [
      "class Background():\n",
      "    def __init__(self, typ, descr, dot):\n",
      "        self.group = typ\n",
      "        self.description = descr\n",
      "        self.dots = dot\n",
      "    def __repr__(self):\n",
      "        return \"%s (%s): %i\" % (self.group, self.description, self.dots)"
     ],
     "language": "python",
     "metadata": {},
     "outputs": [],
     "prompt_number": 17
    },
    {
     "cell_type": "code",
     "collapsed": false,
     "input": [
      "resources = Background('Resources', 'Gold', 4)\n",
      "resources"
     ],
     "language": "python",
     "metadata": {},
     "outputs": [
      {
       "metadata": {},
       "output_type": "pyout",
       "prompt_number": 18,
       "text": [
        "Resources (Gold): 4"
       ]
      }
     ],
     "prompt_number": 18
    },
    {
     "cell_type": "code",
     "collapsed": false,
     "input": [
      "def backgroundList(self):\n",
      "    backgrounds = []\n",
      "    for background_root in self.root.iter('Backgrounds'):\n",
      "        print(background_root)\n",
      "        print(list(background_root.itertext()))\n",
      "        print()\n",
      "        for entry in background_root.iter('Background'):\n",
      "            group, description, extra = map(lambda x: x.strip(), list(entry.itertext()))\n",
      "            print(group, description, entry.attrib)\n",
      "            dots = max( [int(x) for x in entry.attrib.values()])\n",
      "            backgrounds.append(Background(group, description, dots))\n",
      "    return backgrounds"
     ],
     "language": "python",
     "metadata": {},
     "outputs": [],
     "prompt_number": 55
    },
    {
     "cell_type": "code",
     "collapsed": false,
     "input": [
      "backgroundList(ap)"
     ],
     "language": "python",
     "metadata": {},
     "outputs": [
      {
       "output_type": "stream",
       "stream": "stdout",
       "text": [
        "<Element 'Backgrounds' at 0x0000000004495B88>\n",
        "['\\n      ', 'Influence\\n        ', 'Andraek', '\\n      ', '\\n      ', 'Mentor\\n        ', 'Snake Style', '\\n      ', '\\n      ', 'Artifact\\n        ', 'Armor (Plate)', '\\n      ', '\\n      ', 'Backing\\n        ', 'Spirit Courts', '\\n      ', '\\n    ']\n",
        "\n",
        "Influence Andraek {'creationValue': '3'}\n",
        "Mentor Snake Style {'creationValue': '1'}\n",
        "Artifact Armor (Plate) {'creationValue': '3'}\n",
        "Backing Spirit Courts {'experiencedValue': '2', 'creationValue': '0'}\n"
       ]
      },
      {
       "metadata": {},
       "output_type": "pyout",
       "prompt_number": 56,
       "text": [
        "[Influence (Andraek): 3,\n",
        " Mentor (Snake Style): 1,\n",
        " Artifact (Armor (Plate)): 3,\n",
        " Backing (Spirit Courts): 2]"
       ]
      }
     ],
     "prompt_number": 56
    },
    {
     "cell_type": "code",
     "collapsed": false,
     "input": [
      "import re\n",
      "def camel_case_spaces(text):\n",
      "    return re.sub(r'([a-z])([A-Z])', r'\\1 \\2', text)"
     ],
     "language": "python",
     "metadata": {},
     "outputs": [],
     "prompt_number": 25
    },
    {
     "cell_type": "code",
     "collapsed": false,
     "input": [
      "def charmList(self):\n",
      "    charms = []\n",
      "    for listing in self.root.iter('Charms'):\n",
      "        for group in listing.iter('CharmGroup'):\n",
      "            ability = group.attrib['name']\n",
      "            ex_type = group.attrib['type']\n",
      "            for charm in group:\n",
      "                full_name = charm.attrib['name'].split('.')[1]\n",
      "                charms.append((camel_case_spaces(full_name), ability, ex_type))                \n",
      "    return charms"
     ],
     "language": "python",
     "metadata": {},
     "outputs": [],
     "prompt_number": 28
    },
    {
     "cell_type": "code",
     "collapsed": false,
     "input": [
      "charmList(ap)"
     ],
     "language": "python",
     "metadata": {},
     "outputs": [
      {
       "output_type": "stream",
       "stream": "stdout",
       "text": [
        "listing <Element 'Charms' at 0x0000000003D5BD68>\n"
       ]
      },
      {
       "metadata": {},
       "output_type": "pyout",
       "prompt_number": 29,
       "text": [
        "[('Terrestrial Circle Sorcery', 'Occult', 'Solar'),\n",
        " ('Celestial Circle Sorcery', 'Occult', 'Solar'),\n",
        " ('Spirit-Cutting Attack', 'Occult', 'Solar'),\n",
        " (\"All-Encompassing Sorcerer's Sight\", 'Occult', 'Solar'),\n",
        " ('Spirit-Detecting Glance', 'Occult', 'Solar'),\n",
        " ('Eye-Deceiving Camouflage', 'Survival', 'Solar'),\n",
        " ('2nd Excellency', 'Survival', 'Solar'),\n",
        " ('Trackless Region Navigation', 'Survival', 'Solar'),\n",
        " ('Snake Form', 'SnakeStyle', 'Solar'),\n",
        " ('Striking Cobra Technique', 'SnakeStyle', 'Solar'),\n",
        " ('Serpentine Evasion', 'SnakeStyle', 'Solar')]"
       ]
      }
     ],
     "prompt_number": 29
    },
    {
     "cell_type": "code",
     "collapsed": false,
     "input": [
      "def spellList(self):\n",
      "    spells = []\n",
      "    for listing in self.root.iter('Spells'):\n",
      "        for spell in listing.iter('Spell'):\n",
      "            circle, name = spell.attrib['name'].split('.')\n",
      "            spells.append((camel_case_spaces(name), circle))                \n",
      "    return spells"
     ],
     "language": "python",
     "metadata": {},
     "outputs": [],
     "prompt_number": 8
    },
    {
     "cell_type": "code",
     "collapsed": false,
     "input": [
      "spellList(ap)"
     ],
     "language": "python",
     "metadata": {},
     "outputs": [
      {
       "metadata": {},
       "output_type": "pyout",
       "prompt_number": 9,
       "text": [
        "[('Ritual Elemental Empowerment', 'Terrestrial'),\n",
        " ('Commanding Beasts', 'Terrestrial'),\n",
        " ('Flight Separation', 'Terrestrial'),\n",
        " (\"Wood Dragon's Claw\", 'Terrestrial'),\n",
        " ('Summon Elemental', 'Terrestrial'),\n",
        " ('Summoning Harvest', 'Terrestrial'),\n",
        " ('Emerald Circle Banishment', 'Terrestrial'),\n",
        " ('Virtuous Guardian Flame', 'Terrestrial'),\n",
        " ('Flight Brilliant Raptor', 'Terrestrial'),\n",
        " ('Magma Kraken', 'Celestial'),\n",
        " ('Hidden Judges Secret Flame', 'Celestial'),\n",
        " ('Ivory Orchid Pavilion', 'Celestial')]"
       ]
      }
     ],
     "prompt_number": 9
    },
    {
     "cell_type": "code",
     "collapsed": false,
     "input": [
      "def intimacyList(self):\n",
      "    'Intimacies'\n",
      "    models = self.additionalModels()\n",
      "    intimacies = []\n",
      "    for entry in models['Intimacies'][0][0]:\n",
      "        intimacies.append((entry.attrib['name'], int(entry.find('Trait').attrib['creationValue'])))\n",
      "    return intimacies"
     ],
     "language": "python",
     "metadata": {},
     "outputs": [],
     "prompt_number": 18
    },
    {
     "cell_type": "code",
     "collapsed": false,
     "input": [
      "intimacyList(ap)"
     ],
     "language": "python",
     "metadata": {},
     "outputs": [
      {
       "metadata": {},
       "output_type": "pyout",
       "prompt_number": 19,
       "text": [
        "[('Post-Primordial Plan for Creation', 4),\n",
        " ('Everything Malfeas related (negative)', 5),\n",
        " ('Everything Underworld related (negative)', 5),\n",
        " ('Fair Folk (Pathological Hatred)', 5),\n",
        " ('Natural Animals (Fondness)', 5),\n",
        " ('Mortals (Coldly Protective Paternal)', 5),\n",
        " ('Progress (Fearlessly Positive)', 5),\n",
        " ('Solar Circle (Loyal)', 5),\n",
        " ('Silver Prince (Chosen Enemy)', 5),\n",
        " ('Ikress (Fearful Attachment)', 3)]"
       ]
      }
     ],
     "prompt_number": 19
    },
    {
     "cell_type": "code",
     "collapsed": false,
     "input": [],
     "language": "python",
     "metadata": {},
     "outputs": [],
     "prompt_number": 11
    },
    {
     "cell_type": "code",
     "collapsed": false,
     "input": [],
     "language": "python",
     "metadata": {},
     "outputs": []
    }
   ],
   "metadata": {}
  }
 ]
}