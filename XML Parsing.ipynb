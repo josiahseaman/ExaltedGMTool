{
 "metadata": {
  "name": ""
 },
 "nbformat": 3,
 "nbformat_minor": 0,
 "worksheets": [
  {
   "cells": [
    {
     "cell_type": "code",
     "collapsed": false,
     "input": [
      "%reload_ext AnathemaParser\n",
      "from AnathemaParser import *"
     ],
     "language": "python",
     "metadata": {},
     "outputs": [],
     "prompt_number": 1
    },
    {
     "cell_type": "code",
     "collapsed": false,
     "input": [
      "ap = AnathemaParser('Willow.ecg')\n",
      "root = ap.root\n",
      "root.attrib['repositoryPrintName']"
     ],
     "language": "python",
     "metadata": {},
     "outputs": [
      {
       "metadata": {},
       "output_type": "pyout",
       "prompt_number": 2,
       "text": [
        "'Willow'"
       ]
      }
     ],
     "prompt_number": 2
    },
    {
     "cell_type": "code",
     "collapsed": false,
     "input": [
      "element = next(root.iter('CharacterName'))"
     ],
     "language": "python",
     "metadata": {},
     "outputs": [],
     "prompt_number": 5
    },
    {
     "cell_type": "code",
     "collapsed": false,
     "input": [
      "\",\".join(element.itertext())"
     ],
     "language": "python",
     "metadata": {},
     "outputs": [
      {
       "metadata": {},
       "output_type": "pyout",
       "prompt_number": 6,
       "text": [
        "'Willow'"
       ]
      }
     ],
     "prompt_number": 6
    },
    {
     "cell_type": "code",
     "collapsed": false,
     "input": [
      "ap.parse_to_dictionary()"
     ],
     "language": "python",
     "metadata": {},
     "outputs": [
      {
       "output_type": "stream",
       "stream": "stdout",
       "text": [
        "Parsing Backgrounds\n"
       ]
      },
      {
       "metadata": {},
       "output_type": "pyout",
       "prompt_number": 3,
       "text": [
        "{'Appearance': 4,\n",
        " 'Archery': 0,\n",
        " 'Athletics': 3,\n",
        " 'Awareness': 5,\n",
        " 'Backgrounds': [Influence (Andraek): 3,\n",
        "  Mentor (Snake Style): 1,\n",
        "  Artifact (Armor (Plate)): 3,\n",
        "  Backing (Spirit Courts): 2],\n",
        " 'Bureaucracy': 0,\n",
        " 'Charisma': 5,\n",
        " 'Compassion': 2,\n",
        " 'Concept': 'Druid Sorceror',\n",
        " 'Conviction': 3,\n",
        " 'Craft': 0,\n",
        " 'Dexterity': 3,\n",
        " 'Dodge': 5,\n",
        " 'Equipment': ['Superheavy Plate (Artifact)',\n",
        "  'Wood Dragon Claw (Offensive)',\n",
        "  'Wood Dragon Claw (Defensive)'],\n",
        " 'Essence': 4,\n",
        " 'Integrity': 0,\n",
        " 'Intelligence': 4,\n",
        " 'Investigation': 0,\n",
        " 'Larceny': 0,\n",
        " 'Limit': 0,\n",
        " 'Linguistics': 0,\n",
        " 'Lore': 2,\n",
        " 'Manipulation': 2,\n",
        " 'MartialArts': 5,\n",
        " 'Medicine': 0,\n",
        " 'Melee': 0,\n",
        " 'Name': 'Willow',\n",
        " 'Occult': 5,\n",
        " 'Perception': 3,\n",
        " 'Performance': 1,\n",
        " 'Player': 'Corina',\n",
        " 'Presence': 3,\n",
        " 'Resistance': 1,\n",
        " 'Ride': 1,\n",
        " 'Sail': 0,\n",
        " 'Socialize': 1,\n",
        " 'Specialties': {'Occult': ('Forest', 3), 'Survival': ('Leading Groups', 1)},\n",
        " 'Stamina': 2,\n",
        " 'Stealth': 2,\n",
        " 'Strength': 2,\n",
        " 'Survival': 5,\n",
        " 'Temperance': 2,\n",
        " 'Thrown': 0,\n",
        " 'Type': 'Solar',\n",
        " 'Valor': 2,\n",
        " 'War': 0,\n",
        " 'Willpower': 7,\n",
        " 'Wits': 2}"
       ]
      }
     ],
     "prompt_number": 3
    },
    {
     "cell_type": "code",
     "collapsed": false,
     "input": [
      "def gearList(self):\n",
      "    models = self.additionalModels()\n",
      "    gearNames = []\n",
      "    for i in range(1, 20):  # try grabbing a gear name\n",
      "        try:\n",
      "            gearNames.append(next(models['Equipment'][0][i][0].itertext()))\n",
      "        except:\n",
      "            pass\n",
      "    return gearNames"
     ],
     "language": "python",
     "metadata": {},
     "outputs": [],
     "prompt_number": 5
    },
    {
     "cell_type": "code",
     "collapsed": false,
     "input": [
      "from Glossary import *"
     ],
     "language": "python",
     "metadata": {},
     "outputs": [],
     "prompt_number": 6
    },
    {
     "cell_type": "code",
     "collapsed": false,
     "input": [
      "class Background():\n",
      "    def __init__(self, typ, descr, dot):\n",
      "        self.group = typ\n",
      "        self.description = descr\n",
      "        self.dots = dot\n",
      "    def __repr__(self):\n",
      "        return \"%s (%s): %i\" % (self.group, self.description, self.dots)"
     ],
     "language": "python",
     "metadata": {},
     "outputs": [],
     "prompt_number": 17
    },
    {
     "cell_type": "code",
     "collapsed": false,
     "input": [
      "resources = Background('Resources', 'Gold', 4)\n",
      "resources"
     ],
     "language": "python",
     "metadata": {},
     "outputs": [
      {
       "metadata": {},
       "output_type": "pyout",
       "prompt_number": 18,
       "text": [
        "Resources (Gold): 4"
       ]
      }
     ],
     "prompt_number": 18
    },
    {
     "cell_type": "code",
     "collapsed": false,
     "input": [
      "def backgroundList(self):\n",
      "    backgrounds = []\n",
      "    for background_root in self.root.iter('Backgrounds'):\n",
      "        print(background_root)\n",
      "        print(list(background_root.itertext()))\n",
      "        print()\n",
      "        for entry in background_root.iter('Background'):\n",
      "            group, description, extra = map(lambda x: x.strip(), list(entry.itertext()))\n",
      "            print(group, description, entry.attrib)\n",
      "            dots = max( [int(x) for x in entry.attrib.values()])\n",
      "            backgrounds.append(Background(group, description, dots))\n",
      "    return backgrounds"
     ],
     "language": "python",
     "metadata": {},
     "outputs": [],
     "prompt_number": 55
    },
    {
     "cell_type": "code",
     "collapsed": false,
     "input": [
      "backgroundList(ap)"
     ],
     "language": "python",
     "metadata": {},
     "outputs": [
      {
       "output_type": "stream",
       "stream": "stdout",
       "text": [
        "<Element 'Backgrounds' at 0x0000000004495B88>\n",
        "['\\n      ', 'Influence\\n        ', 'Andraek', '\\n      ', '\\n      ', 'Mentor\\n        ', 'Snake Style', '\\n      ', '\\n      ', 'Artifact\\n        ', 'Armor (Plate)', '\\n      ', '\\n      ', 'Backing\\n        ', 'Spirit Courts', '\\n      ', '\\n    ']\n",
        "\n",
        "Influence Andraek {'creationValue': '3'}\n",
        "Mentor Snake Style {'creationValue': '1'}\n",
        "Artifact Armor (Plate) {'creationValue': '3'}\n",
        "Backing Spirit Courts {'experiencedValue': '2', 'creationValue': '0'}\n"
       ]
      },
      {
       "metadata": {},
       "output_type": "pyout",
       "prompt_number": 56,
       "text": [
        "[Influence (Andraek): 3,\n",
        " Mentor (Snake Style): 1,\n",
        " Artifact (Armor (Plate)): 3,\n",
        " Backing (Spirit Courts): 2]"
       ]
      }
     ],
     "prompt_number": 56
    },
    {
     "cell_type": "code",
     "collapsed": false,
     "input": [
      "\n",
      "        "
     ],
     "language": "python",
     "metadata": {},
     "outputs": [
      {
       "output_type": "stream",
       "stream": "stdout",
       "text": [
        "<Element 'Backgrounds' at 0x0000000004495B88>\n",
        "['\\n      ', 'Influence\\n        ', 'Andraek', '\\n      ', '\\n      ', 'Mentor\\n        ', 'Snake Style', '\\n      ', '\\n      ', 'Artifact\\n        ', 'Armor (Plate)', '\\n      ', '\\n      ', 'Backing\\n        ', 'Spirit Courts', '\\n      ', '\\n    ']\n",
        "\n",
        "Influence Andraek {'creationValue': '3'}\n",
        "Mentor Snake Style {'creationValue': '1'}\n",
        "Artifact Armor (Plate) {'creationValue': '3'}\n",
        "Backing Spirit Courts {'experiencedValue': '2', 'creationValue': '0'}\n"
       ]
      }
     ],
     "prompt_number": 54
    },
    {
     "cell_type": "code",
     "collapsed": false,
     "input": [],
     "language": "python",
     "metadata": {},
     "outputs": []
    }
   ],
   "metadata": {}
  }
 ]
}