{
 "metadata": {
  "name": ""
 },
 "nbformat": 3,
 "nbformat_minor": 0,
 "worksheets": [
  {
   "cells": [
    {
     "cell_type": "code",
     "collapsed": false,
     "input": [
      "from ExaltedCharacter import ExaltedCharacter\n",
      "from Glossary import *\n",
      "%run Glossary.py"
     ],
     "language": "python",
     "metadata": {},
     "outputs": [],
     "prompt_number": 39
    },
    {
     "cell_type": "code",
     "collapsed": false,
     "input": [
      "quinn = ExaltedCharacter('QuinnLanus.ecg')"
     ],
     "language": "python",
     "metadata": {},
     "outputs": [],
     "prompt_number": 20
    },
    {
     "cell_type": "code",
     "collapsed": false,
     "input": [
      "def check_for_5(character, stat_list):\n",
      "    assert max([character[ab] for ab in stat_list]) >= 5"
     ],
     "language": "python",
     "metadata": {},
     "outputs": [],
     "prompt_number": 14
    },
    {
     "cell_type": "code",
     "collapsed": false,
     "input": [
      "def attribute_validation(character):\n",
      "    \"\"\"Physical, mental and social at a 5\"\"\"\n",
      "    \"\"\" Set Dexterity to 5.\"\"\"\n",
      "    assert character[dexterity] == 5\n",
      "    \"\"\"Choose one Social and one Mental attribute to be rated at 5.\"\"\"\n",
      "    for category in [social, mental]:\n",
      "        assert max([character[att] for att in category] ) >= 5\n",
      "\n",
      "    \"\"\"Distribute 6 points in your primary category, 4 in your secondary, 2 in your tertiary.\"\"\"\n",
      "    attr_totals = [sum([character[att] for att in category]) for category in (physical, mental, social)]\n",
      "    attr_totals.sort()  #ascending order\n",
      "    assert attr_totals[2] >= 2+5+6\n",
      "    assert attr_totals[1] >= 2+5+4\n",
      "    assert attr_totals[0] >= 2+5+2"
     ],
     "language": "python",
     "metadata": {},
     "outputs": [],
     "prompt_number": 15
    },
    {
     "cell_type": "code",
     "collapsed": false,
     "input": [
      "def ability_validation(character):\n",
      "    \"\"\"Choose one of Archery, Martial Arts, Melee and Thrown to be rated at 5.\"\"\"\n",
      "    check_for_5(character, (archery, martialarts, melee, thrown))\n",
      "    \n",
      "    \"\"\"Choose one of Integrity, Presence, Performance and Investigation to be rated at 5.\"\"\"\n",
      "    check_for_5(character, (integrity, presence, performance, investigation))\n",
      "    \n",
      "    \"\"\"Choose three of your Caste abilities to be rated at 5 (Dawn characters may choose Resistance or Dodge if they wish to avoid redundant attack abilities, but are strongly encouraged to choose War).\"\"\"\n",
      "    castes = dict(caste_abilities)\n",
      "    castes['Dawn'] = castes['Dawn'] + [resistance, dodge]\n",
      "    for key, value in castes.items():\n",
      "        castes[key] = len(list(filter(lambda stat: stat >= 5, [character[stat] for stat in value]))) #number of 5's sorted per caste\n",
      "    assert max(castes.values()) >= 3, castes.values()\n",
      "    #You could print out what caste they look like here\n",
      "              \n",
      "    \"\"\"Choose any three other abilities to be rated at 5.  That brings a total of 8 abilities trained to 5.\"\"\" \n",
      "    assert len(list(filter(lambda stat: stat >= 5, [character[stat] for stat in ability_list]))) >= 8\n",
      "    \n",
      "    \"\"\"If you do not have Martial Arts or Melee rated at 5, you must ensure that Dodge or Resistance is amongst your abilities rated at 5.\"\"\"\n",
      "    check_for_5(character, [martialarts, melee, dodge, resistance])\n",
      "    \n",
      "    \"\"\"Distribute 12 points amongst the remaining abilities, no more than 3 points to any one ability.\n",
      "    That brings the total number of dots to 52 and at least 12 trained abilities.\"\"\"\n",
      "    assert sum([character[stat] for stat in ability_list]) >= 52\n",
      "    assert len(list(filter(lambda stat: stat == 0, [character[stat] for stat in ability_list]))) <= 25-12\n",
      "    \n",
      "    \"\"\"Craft is a single ability for Lightbringers. \"\"\"\n",
      "    #Is there anything really to check?  Check redundant craft purchases?\n",
      "    \n",
      "    \"\"\"Choose 3 specialties for each ability rated at 5.  Which works out to 8*3=24 specialty dots.\"\"\"\n",
      "    assert sum([tupl[1] for tupl in character[specialties].values()]) >= 24\n",
      "    "
     ],
     "language": "python",
     "metadata": {},
     "outputs": [],
     "prompt_number": 35
    },
    {
     "cell_type": "code",
     "collapsed": false,
     "input": [
      "def advantage_validation(character):\n",
      "    \"\"\"Choose one Virtue to be rated at 5. Distribute 5 dots amongst the remaining Virtues (each Virtue starts with 1 dot as normal).\"\"\"\n",
      "    check_for_5(character, virtues)\n",
      "    assert sum([character[stat] for stat in virtues]) >= 5+5+3\n",
      "    assert min([character[stat] for stat in virtues]) >= 1  # you can't have a virtue at zero\n",
      "    \n",
      "    \"\"\"Choose Virtue Flaw as normal.\"\"\"\n",
      "    #Check for text?\n",
      "    \n",
      "    \"\"\"You get 5 Artifact dots. This must be distributed between Jade artifacts with a rating no greater than 3, \n",
      "    ideally weapons and armour. This represents spoils from unsuccessful Wyld Hunts; the ST may optionally allow \n",
      "    soulsteel, starmetal or moonsilver to represent different defeated foes.\"\"\"\n",
      "    artifacts = filter(lambda b: b.type == 'Artifact', character[backgrounds])\n",
      "    assert sum([art.dots for art in artifacts]) >= 5\n",
      "    assert max([art.dots for art in artifacts]) <= 3\n",
      "    \n",
      "    \"\"\"Distribute 7 points amongst other backgrounds, except Manse.\"\"\"\n",
      "    non_artifacts = filter(lambda b: b.type != 'Artifact' and b.type != 'Manse', character[backgrounds])\n",
      "    assert sum([entry.dots for entry in non_artifacts]) >= 7\n",
      "    assert len(filter(lambda b: b.type != 'Manse', character[backgrounds])) == 0"
     ],
     "language": "python",
     "metadata": {},
     "outputs": [],
     "prompt_number": 37
    },
    {
     "cell_type": "code",
     "collapsed": false,
     "input": [
      "def validate_lightbringer(character):\n",
      "    assert isinstance(character, ExaltedCharacter)\n",
      "    sheet = character.characterSheet\n",
      "#     sheet[craft] = character[craft]\n",
      "    attribute_validation(sheet)\n",
      "    ability_validation(sheet)\n",
      "    advantage_validation(sheet)\n",
      "    \n",
      "validate_lightbringer(quinn)"
     ],
     "language": "python",
     "metadata": {},
     "outputs": [],
     "prompt_number": 38
    },
    {
     "cell_type": "code",
     "collapsed": false,
     "input": [
      "c"
     ],
     "language": "python",
     "metadata": {},
     "outputs": [
      {
       "metadata": {},
       "output_type": "pyout",
       "prompt_number": 28,
       "text": [
        "{'Appearance': 5,\n",
        " 'Archery': 5,\n",
        " 'Athletics': 0,\n",
        " 'Awareness': 3,\n",
        " 'Bureaucracy': 5,\n",
        " 'Charisma': 1,\n",
        " 'Compassion': 2,\n",
        " 'Concept': 'Reality Engineer',\n",
        " 'Conviction': 5,\n",
        " 'Craft': 5,\n",
        " 'Dexterity': 5,\n",
        " 'Dodge': 0,\n",
        " 'Equipment': ['Flame Piece',\n",
        "  'Flame Piece',\n",
        "  'Reinforced Breastplate (Artifact)'],\n",
        " 'Essence': 3,\n",
        " 'Integrity': 3,\n",
        " 'Intelligence': 5,\n",
        " 'Investigation': 5,\n",
        " 'Larceny': 2,\n",
        " 'Limit': 6,\n",
        " 'Linguistics': 5,\n",
        " 'Lore': 5,\n",
        " 'Manipulation': 5,\n",
        " 'MartialArts': 5,\n",
        " 'Medicine': 3,\n",
        " 'Melee': 0,\n",
        " 'Name': 'Quinn Lanus',\n",
        " 'Occult': 4,\n",
        " 'Perception': 4,\n",
        " 'Performance': 0,\n",
        " 'Player': 'Josiah',\n",
        " 'Presence': 5,\n",
        " 'Resistance': 3,\n",
        " 'Ride': 0,\n",
        " 'Sail': 0,\n",
        " 'Socialize': 2,\n",
        " 'Specialties': {'Bureaucracy': ('Celestial', 3),\n",
        "  'Craft': ('Anti-Magic', 3),\n",
        "  'Investigation': ('Deduction', 3),\n",
        "  'Linguistics': ('Writing', 3),\n",
        "  'Lore': ('Wyld Shaping', 3),\n",
        "  'MartialArts': ('One on One', 3),\n",
        "  'Occult': ('Thaumaturgy', 2),\n",
        "  'Presence': ('Explanation', 3),\n",
        "  'Socialize': ('Analysis', 3)},\n",
        " 'Stamina': 2,\n",
        " 'Stealth': 0,\n",
        " 'Strength': 2,\n",
        " 'Survival': 0,\n",
        " 'Temperance': 4,\n",
        " 'Thrown': 0,\n",
        " 'Type': 'Solar',\n",
        " 'Valor': 3,\n",
        " 'War': 0,\n",
        " 'Willpower': 8,\n",
        " 'Wits': 5}"
       ]
      }
     ],
     "prompt_number": 28
    },
    {
     "cell_type": "code",
     "collapsed": false,
     "input": [],
     "language": "python",
     "metadata": {},
     "outputs": []
    }
   ],
   "metadata": {}
  }
 ]
}